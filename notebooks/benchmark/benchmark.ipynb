{
 "cells": [
  {
   "cell_type": "markdown",
   "id": "8270a16d",
   "metadata": {},
   "source": [
    "# benchmark.ipynb\n",
    "\n",
    "This notebook contains the text and code for the next blog post in the zero-copy model series, \n",
    "title TBD.\n",
    "\n",
    "The first post explained how to load PyTorch models for inference extremely fast by leveraging the Plasma object store's ability to load numeric data directly from shared memory.\n",
    "\n",
    "In this post, we talk in more concrete terms about how to use this zero-copy model loading for model serving. We put together a simple model serving system, then set up a microbenchmark that simulates a heavy-tailed traffic pattern."
   ]
  },
  {
   "cell_type": "code",
   "execution_count": 1,
   "id": "edbf7611",
   "metadata": {},
   "outputs": [],
   "source": [
    "# Initialization and import code goes in this cell.\n",
    "\n",
    "# Imports: Python core, then third-party, then local.\n",
    "# Try to keep each block in alphabetical order, or the linter may get angry.\n",
    "\n",
    "import asyncio\n",
    "import concurrent.futures\n",
    "import requests\n",
    "import starlette\n",
    "import time\n",
    "import os\n",
    "import json\n",
    "\n",
    "from typing import Dict, Callable, Tuple, List\n",
    "\n",
    "import matplotlib.pyplot as plt\n",
    "import numpy as np\n",
    "import pandas as pd\n",
    "\n",
    "import ray\n",
    "from ray import serve\n",
    "import torch\n",
    "import transformers\n",
    "\n",
    "import zerocopy\n",
    "\n",
    "# Fix silly warning messages about parallel tokenizers\n",
    "os.environ['TOKENIZERS_PARALLELISM'] = 'False'\n",
    "\n",
    "\n",
    "# Reduce the volume of warning messages from `transformers`\n",
    "transformers.logging.set_verbosity_error()\n",
    "\n",
    "\n",
    "def reboot_ray():\n",
    "    if ray.is_initialized():\n",
    "        ray.shutdown()\n",
    "\n",
    "    if torch.cuda.is_available():\n",
    "        return ray.init(num_gpus=1)\n",
    "    else:\n",
    "        return ray.init()"
   ]
  },
  {
   "cell_type": "markdown",
   "id": "9a69fefd",
   "metadata": {},
   "source": [
    "# Title of new blog post goes here\n",
    "\n",
    "*Recap of previous blog post goes here.*\n",
    "\n",
    "In a [previous post](https://medium.com/ibm-data-ai/how-to-load-pytorch-models-340-times-faster-with-ray-8be751a6944c), we introduced the concept of *zero-copy model loading*. Zero-copy model loading involves keeping the weights of a deep learning model in shared memory, so that different processes can \"load\" the model for inference without needing to have a copy of the weights in their local heap memory.\n",
    "\n",
    "We showed that the Plasma object store integrated into Ray makes it easy to do zero-copy model loading, and that that implementing this technique on Ray can accelerate model loading by several orders of magnitude. If you'd like to find out more about the details of zero-copy model loading, follow [this link](https://medium.com/ibm-data-ai/how-to-load-pytorch-models-340-times-faster-with-ray-8be751a6944c) to view the previous post.\n",
    "\n",
    "In this post, we focus on how to use zero-copy model loading for production deployments of large natural language processing (NLP) models. We introduce `zerocopy`, a Python package that makes it extra simple to apply zero-copy model loading to PyTorch models. We show how easy it is to deploy modern NLP models using with `zerocopy` and Ray Serve. Finally, we present an end-to-end model serving benchmark that shows how we can serve 12 state-of-the-art NLP models with a single cloud VM and achieve (**TODO: final numbers**)x better scalability."
   ]
  },
  {
   "cell_type": "code",
   "execution_count": 2,
   "id": "7add2053",
   "metadata": {},
   "outputs": [
    {
     "name": "stderr",
     "output_type": "stream",
     "text": [
      "2022-03-04 15:57:26,911\tINFO services.py:1374 -- View the Ray dashboard at \u001b[1m\u001b[32mhttp://127.0.0.1:8265\u001b[39m\u001b[22m\n",
      "\u001b[2m\u001b[36m(ServeController pid=16252)\u001b[0m 2022-03-04 15:57:31,076\tINFO checkpoint_path.py:16 -- Using RayInternalKVStore for controller checkpoint and recovery.\n",
      "\u001b[2m\u001b[36m(ServeController pid=16252)\u001b[0m 2022-03-04 15:57:31,186\tINFO http_state.py:98 -- Starting HTTP proxy with name 'SERVE_CONTROLLER_ACTOR:XTDcTe:SERVE_PROXY_ACTOR-node:127.0.0.1-0' on node 'node:127.0.0.1-0' listening on '127.0.0.1:8000'\n",
      "2022-03-04 15:57:31,596\tINFO api.py:475 -- Started Serve instance in namespace 'dac37c52-87e4-4e60-a461-5d85c99250dc'.\n",
      "\u001b[2m\u001b[36m(HTTPProxyActor pid=16251)\u001b[0m INFO:     Started server process [16251]\n"
     ]
    }
   ],
   "source": [
    "# Don't include this cell in the blog post.\n",
    "# Fire up Ray\n",
    "serve.shutdown()\n",
    "reboot_ray()\n",
    "serve.start()\n",
    "\n",
    "# Wait a moment to make sure that all log output goes to this cell\n",
    "time.sleep(1.)"
   ]
  },
  {
   "cell_type": "markdown",
   "id": "19cedcb5-62a4-401b-ac58-d2fe41044dbc",
   "metadata": {
    "tags": []
   },
   "source": [
    "## Introducing `zerocopy`\n",
    "\n",
    "Our previous post included code snippets that show how to rewrite a PyTorch model to use zero-copy model loading. \n",
    "We've recently created a Python package, `zerocopy`, that lets you apply this technique to your models without having to copy and paste a bunch of Python code. \n",
    "\n",
    "**TODO: Explain the relationship between `zerocopy` and Project Codeflare**\n",
    "\n",
    "**(TODO: Publish the package to PyPI and insert installation instructions here)**\n",
    "\n",
    "Using the `zerocopy` package is a three-step process:\n",
    "1. Import the package\n",
    "2. Move your model's weights onto the Plasma object store\n",
    "3. Run your model in an asynchronous Ray task\n",
    "\n",
    "Let's show these three steps in action with the [BERT language model](https://arxiv.org/abs/1810.04805) as implemented in the [Transformers](https://huggingface.co/docs/transformers/index) library.\n",
    "\n",
    "Step 1 is just a Python `import` statement:\n",
    "```python \n",
    "import zerocopy\n",
    "```\n",
    "\n",
    "Then it's on to step 2: Moving your model's weights onto Plasma. You will of course need a PyTorch model to do this step. Here we use the Transformers library's `from_pretrained()` function to load a copy of BERT."
   ]
  },
  {
   "cell_type": "code",
   "execution_count": 3,
   "id": "40c168f1-faa9-4dbb-aeea-64940ec5f4f0",
   "metadata": {},
   "outputs": [],
   "source": [
    "bert_model = transformers.BertModel.from_pretrained('bert-base-uncased')"
   ]
  },
  {
   "cell_type": "code",
   "execution_count": 4,
   "id": "727b62eb-186b-49a5-a612-c554282323c2",
   "metadata": {},
   "outputs": [
    {
     "data": {
      "text/plain": [
       "{'input_ids': tensor([[  101,  2054,  1005,  1055,  2178,  2773,  2005,  1005,  1996, 22244,\n",
       "          1005,  1029,   102]]), 'token_type_ids': tensor([[0, 0, 0, 0, 0, 0, 0, 0, 0, 0, 0, 0, 0]]), 'attention_mask': tensor([[1, 1, 1, 1, 1, 1, 1, 1, 1, 1, 1, 1, 1]])}"
      ]
     },
     "execution_count": 4,
     "metadata": {},
     "output_type": "execute_result"
    }
   ],
   "source": [
    "# Don't include this cell in the blog\n",
    "# Load a tokenizer to go with the model\n",
    "bert_tokenizer = transformers.BertTokenizer.from_pretrained(\n",
    "    'bert-base-uncased')\n",
    "text = \"What's another word for 'thesaurus'?\"\n",
    "bert_input = bert_tokenizer(text, return_tensors='pt')\n",
    "bert_input"
   ]
  },
  {
   "cell_type": "markdown",
   "id": "5c449584-9ad4-484f-957e-162bf40f8781",
   "metadata": {},
   "source": [
    "To move this model's weights onto Plasma, you first need to pass the model through `zerocopy.extract_tensors`, which converts the model into two things: a copy of the model without any weights and a separate Python dictionary containing the weights. Then you need to copy the model and its weights to Plasma using the function `ray.put()`. You can do both of these operations with a single line of Python code. "
   ]
  },
  {
   "cell_type": "code",
   "execution_count": 5,
   "id": "e30e8b0e-d6c2-4ec2-a3fe-369ab675f6e1",
   "metadata": {},
   "outputs": [],
   "source": [
    "bert_ref = ray.put(zerocopy.extract_tensors(bert_model))"
   ]
  },
  {
   "cell_type": "markdown",
   "id": "5d8b456a-f5aa-48b1-81f6-c14e53835015",
   "metadata": {},
   "source": [
    "The return value from `ray.put()` is a Ray [object reference](https://arrow.apache.org/docs/python/plasma.html#object-ids). This object reference lets you load the model almost instantly from any location on your Ray cluster. This capability is what enables step 3: Running your model in an asynchronous Ray task.\n",
    "\n",
    "In our previous post, we showed how you can define a stateless Ray task that loads the model, runs inference over an input, and returns the result. The `zerocopy` package includes a built-in function `call_model()` that lets you do all these steps in one line of Python code. You just pass in the object reference, the name of the method on the model you want to invoke, and the arguments to that method. `call_model.remote()` takes care of the rest. "
   ]
  },
  {
   "cell_type": "code",
   "execution_count": 6,
   "id": "2edae889-4937-450a-9813-b3a44dceb68f",
   "metadata": {},
   "outputs": [],
   "source": [
    "result_ref = zerocopy.call_model.remote(bert_ref, [], bert_input, '__call__')"
   ]
  },
  {
   "cell_type": "markdown",
   "id": "df1c8211-6dbe-46a4-b9b6-f0bfc0dc1fe1",
   "metadata": {},
   "source": [
    "As with any other Ray task, `call_model.remote()` returns a [future](https://docs.ray.io/en/latest/ray-overview/index.html#parallelizing-python-java-functions-with-ray-tasks) --- a Ray object reference to the place where the result will appear once the task has completed. You can retrieve this result with `ray.get()`."
   ]
  },
  {
   "cell_type": "code",
   "execution_count": 7,
   "id": "65a1e427-fc22-4685-9f49-02dcc6145744",
   "metadata": {},
   "outputs": [],
   "source": [
    "result = ray.get(result_ref)"
   ]
  },
  {
   "cell_type": "markdown",
   "id": "23599bf9-9e86-46eb-8f5d-e95a21732bcb",
   "metadata": {
    "tags": []
   },
   "source": [
    "The time to invoke the rewritten model once is almost the same as running the model locally."
   ]
  },
  {
   "cell_type": "code",
   "execution_count": 8,
   "id": "c162f92a-93f0-4732-9abc-b7d2db7f84fc",
   "metadata": {},
   "outputs": [
    {
     "name": "stdout",
     "output_type": "stream",
     "text": [
      "       Time to run locally: 79.5 ms ± 1.34 ms per loop (mean ± std. dev. of 7 runs, 10 loops each)\n",
      "Time to run with zero-copy: 85.1 ms ± 1.82 ms per loop (mean ± std. dev. of 7 runs, 10 loops each)\n"
     ]
    }
   ],
   "source": [
    "print(\"       Time to run locally: \", end=\"\")\n",
    "%timeit bert_model(**bert_input)\n",
    "print(\"Time to run with zero-copy: \", end=\"\")\n",
    "%timeit ray.get(zerocopy.call_model.remote(bert_ref, [], bert_input))"
   ]
  },
  {
   "cell_type": "markdown",
   "id": "f748fc9e-bb77-4697-9557-e96e1b788c26",
   "metadata": {},
   "source": [
    "If we run inference multiple times, `zero_copy.call_model()` can send those inference requests to separate Ray tasks that run in parallel."
   ]
  },
  {
   "cell_type": "code",
   "execution_count": 9,
   "id": "93e1c83a-585e-4b13-ad18-7a5dd937a6ed",
   "metadata": {},
   "outputs": [
    {
     "name": "stdout",
     "output_type": "stream",
     "text": [
      "Time to run 200 times with zero-copy: 3.68 s ± 17.2 ms per loop (mean ± std. dev. of 3 runs, 1 loop each)\n",
      "       Time to run 200 times locally: 15.9 s ± 69.4 ms per loop (mean ± std. dev. of 3 runs, 1 loop each)\n"
     ]
    }
   ],
   "source": [
    "def run_local(num_repeats: int):\n",
    "    return [bert_model(**bert_input)\n",
    "            for _ in range(num_repeats)]\n",
    "\n",
    "\n",
    "def run_zero_copy(num_repeats: int):\n",
    "    return ray.get([zerocopy.call_model.remote(bert_ref, [], bert_input)\n",
    "                    for _ in range(num_repeats)])\n",
    "\n",
    "\n",
    "NUM_REPEATS = 200\n",
    "print(f\"Time to run {NUM_REPEATS} times with zero-copy: \", end=\"\")\n",
    "%timeit -r 3 run_zero_copy(NUM_REPEATS)\n",
    "print(f\"       Time to run {NUM_REPEATS} times locally: \", end=\"\")\n",
    "%timeit -r 3 run_local(NUM_REPEATS)"
   ]
  },
  {
   "cell_type": "markdown",
   "id": "a334ff0f-d0ad-4d8d-9b58-9f9fbf5bada5",
   "metadata": {},
   "source": [
    "## Model inference pipelines\n",
    "\n",
    "With the `zerocopy` library's `extract_tensors()` and `call_model()` functions, you can apply zero-copy model loading to a Pytorch model with two lines of Python. But what about the end-to-end program that this model came from? \n",
    "\n",
    "Most machine learning models require some additional code to use them in a meaningful application. NLP models in particular require *preprocessing* to convert natural language text into a format amenable to model inference and *postprocessing* to convert the model's answer into a format that a person can understand. \n",
    "\n",
    "It's common to package the model as *pipeline* that includes preprocessing, inference, and postprocessing bundled together in a single Python object. For example, the Transformers library's BERT model that we have been using in our examples so far comes with a pipeline that performs the end-to-end task of *masked language modeling*: Identifying the most likely word to fill in a blank in a phrase."
   ]
  },
  {
   "cell_type": "code",
   "execution_count": 10,
   "id": "0938883f-cd5f-4ed6-b2f7-d195652859ca",
   "metadata": {},
   "outputs": [
    {
     "data": {
      "text/plain": [
       "[{'score': 0.6013057231903076,\n",
       "  'token': 2033,\n",
       "  'token_str': 'me',\n",
       "  'sequence': 'all your base are belong to me.'},\n",
       " {'score': 0.08610764890909195,\n",
       "  'token': 2032,\n",
       "  'token_str': 'him',\n",
       "  'sequence': 'all your base are belong to him.'},\n",
       " {'score': 0.054536789655685425,\n",
       "  'token': 2017,\n",
       "  'token_str': 'you',\n",
       "  'sequence': 'all your base are belong to you.'},\n",
       " {'score': 0.04619930312037468,\n",
       "  'token': 2149,\n",
       "  'token_str': 'us',\n",
       "  'sequence': 'all your base are belong to us.'},\n",
       " {'score': 0.03938837721943855,\n",
       "  'token': 2068,\n",
       "  'token_str': 'them',\n",
       "  'sequence': 'all your base are belong to them.'}]"
      ]
     },
     "execution_count": 10,
     "metadata": {},
     "output_type": "execute_result"
    }
   ],
   "source": [
    "bert_pipeline = transformers.pipeline('fill-mask', model='bert-base-uncased')\n",
    "bert_pipeline('All your base are belong to [MASK].')"
   ]
  },
  {
   "cell_type": "markdown",
   "id": "fb709640-def3-415a-b0e0-8ef49968f7b3",
   "metadata": {},
   "source": [
    "The `zerocopy` library includes a function `rewrite_pipeline` that transforms any models embedded into Python object into Ray tasks that use zero-copy model loading to load weights. If we apply this function to a pipeline, the resulting rewritten pipeline faithfully performs all the preprocessing and postprocessing that the original pipeline performed. However, this rewritten pipeline runs the embedded PyTorch model in remote Ray tasks."
   ]
  },
  {
   "cell_type": "code",
   "execution_count": 11,
   "id": "2add9f8b-b401-4cf4-accb-c753bfe6a26c",
   "metadata": {
    "tags": []
   },
   "outputs": [
    {
     "name": "stdout",
     "output_type": "stream",
     "text": [
      "Local memory used before rewrite: 715664 kb\n",
      " Local memory used after rewrite: 6848 kb\n",
      "Output before rewrite: 0.6013057231903076\n",
      " Output after rewrite: 0.6013057231903076\n"
     ]
    }
   ],
   "source": [
    "from pympler import asizeof\n",
    "\n",
    "zero_copy_bert_pipeline = zerocopy.rewrite_pipeline(bert_pipeline)\n",
    "print(f\"Local memory used before rewrite: {asizeof.asizeof(bert_pipeline)} kb\")\n",
    "print(f\" Local memory used after rewrite: {asizeof.asizeof(zero_copy_bert_pipeline)} kb\")\n",
    "\n",
    "print(f\"Output before rewrite: {bert_pipeline('All your base are belong to [MASK].')[0]['score']}\")\n",
    "print(f\" Output after rewrite: {zero_copy_bert_pipeline('All your base are belong to [MASK].')[0]['score']}\")"
   ]
  },
  {
   "cell_type": "code",
   "execution_count": 12,
   "id": "db391cd4-b007-4f8a-a320-751a8b0644bf",
   "metadata": {},
   "outputs": [
    {
     "data": {
      "text/plain": [
       "ObjectRef(f777f4d299f5dc31ffffffffffffffffffffffff0100000001000000)"
      ]
     },
     "execution_count": 12,
     "metadata": {},
     "output_type": "execute_result"
    },
    {
     "name": "stderr",
     "output_type": "stream",
     "text": [
      "2022-03-04 15:59:30,745\tERROR worker.py:85 -- Unhandled error (suppress with RAY_IGNORE_UNHANDLED_ERRORS=1): \u001b[36mray::call_model()\u001b[39m (pid=16250, ip=127.0.0.1)\n",
      "  File \"/Users/freiss/ray/zero-copy-model-loading/zerocopy/invoke.py\", line 54, in call_model\n",
      "    model_skeleton, model_weights = model_ref\n",
      "TypeError: cannot unpack non-iterable _Callback object\n"
     ]
    }
   ],
   "source": [
    "a = zero_copy_bert_pipeline.preprocess('All your base are belong to [MASK].')\n",
    "b = zerocopy.call_model.remote(\n",
    "            zero_copy_bert_pipeline.model, [], a)\n",
    "b"
   ]
  },
  {
   "cell_type": "markdown",
   "id": "46e89618-037d-4440-883d-9bcf45f9afce",
   "metadata": {},
   "source": [
    "## Deploying Models with `zerocopy` and Ray Serve\n",
    "\n",
    "TODO: Describe the most common approach (as in TorchServe, TensorFlow Serving, Seldon Core, and others)\n",
    "* Put each model in its own container\n",
    "* Reserve dedicated CPU capacity for each container\n",
    "* Reserve enough memory to hold the model's weights\n",
    "* Reserve enough additional memory to hold any intermediate results (typically several GB) that the model will produce while running over its largest allowable input size\n",
    "* Many conflicting knobs to tune \n",
    "    * How many replicas of each model to keep up at all times\n",
    "    * How quickly to spawn additional replicas (spinning up a replica is expensive)\n",
    "    * How quickly to shut down unused replicas\n",
    "    * How much memory and CPU to allocate to each replica\n",
    "    * Should each replica operate over batches or single requests\n",
    "* Lots of tuning required to achieve good performance for a given workload\n",
    "* Common to operate with low utilizations (TODO: Any public stats to cite here?)\n",
    "\n",
    "TODO: Describe our approach of using zero copy: \n",
    "* Model inference happens in stateless Ray tasks.\n",
    "* Argument handling, preprocessing, and postprocessing happens in Ray Serve endpoints\n",
    "* Lower memory footprint, since you don't need to reserve heap memory for models that aren't running\n",
    "* Better system utilization, because nearly all memory and CPU is available to any Ray task at any time\n",
    "* Instant scaleout in response to bursts of requests for a particular model\n",
    "* Far fewer parameters to tune"
   ]
  },
  {
   "cell_type": "markdown",
   "id": "4f4075d9-2771-42cf-b308-40e9e5a8ffde",
   "metadata": {},
   "source": [
    "Text goes here"
   ]
  },
  {
   "cell_type": "code",
   "execution_count": 21,
   "id": "c25fe785-18c4-4561-886d-be5f9ac8ba1d",
   "metadata": {},
   "outputs": [],
   "source": [
    "from ray import serve\n",
    "\n",
    "@serve.deployment\n",
    "class MyDeployment:\n",
    "    def __init__(self):\n",
    "        transformers.logging.set_verbosity_error()\n",
    "        \n",
    "        # Load the entire pipeline\n",
    "        self._pipeline = transformers.pipeline('fill-mask', model='bert-base-uncased')\n",
    "        \n",
    "        # Move the model weights to Plasma\n",
    "        self._pipeline.model = zerocopy.extract_tensors(self._pipeline.model)\n",
    "        \n",
    "        \n",
    "    async def __call__(self, request: starlette.requests.Request):\n",
    "        '''\n",
    "        Web service entry point.\n",
    "        \n",
    "        Args:\n",
    "            request: HTTP request object for a REST web service call\n",
    "                     in the form:\n",
    "                     { \"input\": \"<input text with [MASK]>\" }\n",
    "        '''\n",
    "        # Parse JSON. A real deployment would also sanitize the input.\n",
    "        json_request = await request.json()\n",
    "        input_ = json_request['input']\n",
    "        \n",
    "        # Preprocessing\n",
    "        features = self._pipeline.preprocess(input_)\n",
    "        \n",
    "        # Model inference runs asynchronously in a Ray task\n",
    "        raw_output = await zerocopy.call_model.remote(\n",
    "            self._pipeline.model, [], features)\n",
    "\n",
    "        # Postprocessing\n",
    "        raw_output[\"input_ids\"] = features[\"input_ids\"]\n",
    "        return self._pipeline.postprocess(raw_output)"
   ]
  },
  {
   "cell_type": "markdown",
   "id": "fe1f6985-99a1-4bb9-a9e5-addd94e983bd",
   "metadata": {},
   "source": [
    "Text goes here"
   ]
  },
  {
   "cell_type": "code",
   "execution_count": 22,
   "id": "9daa3577-ad3a-4cfb-b2fb-5e7ab9f5caa0",
   "metadata": {},
   "outputs": [
    {
     "name": "stderr",
     "output_type": "stream",
     "text": [
      "2022-03-04 16:10:21,825\tINFO api.py:249 -- Updating deployment 'my_model'. component=serve deployment=my_model\n",
      "\u001b[2m\u001b[36m(ServeController pid=16252)\u001b[0m 2022-03-04 16:10:21,885\tINFO deployment_state.py:882 -- Stopping 1 replicas of deployment 'my_model' with outdated versions. component=serve deployment=my_model\n",
      "\u001b[2m\u001b[36m(ServeController pid=16252)\u001b[0m 2022-03-04 16:10:24,008\tINFO deployment_state.py:920 -- Adding 1 replicas to deployment 'my_model'. component=serve deployment=my_model\n",
      "2022-03-04 16:10:30,761\tINFO api.py:261 -- Deployment 'my_model' is ready at `http://127.0.0.1:8000/my_model`. component=serve deployment=my_model\n"
     ]
    }
   ],
   "source": [
    "MyDeployment.options(name='my_model', ray_actor_options={\"num_cpus\": 0.1}).deploy()"
   ]
  },
  {
   "cell_type": "markdown",
   "id": "b130c9b6-ae1e-4990-b7ad-13a54abbb957",
   "metadata": {},
   "source": [
    "Text goes here"
   ]
  },
  {
   "cell_type": "code",
   "execution_count": 23,
   "id": "720bdb27-f993-4213-aa8c-6878c4d69263",
   "metadata": {},
   "outputs": [
    {
     "name": "stdout",
     "output_type": "stream",
     "text": [
      "[\n",
      "  {\n",
      "    \"score\": 0.6013057231903076,\n",
      "    \"token\": 2033,\n",
      "    \"token_str\": \"me\",\n",
      "    \"sequence\": \"all your base are belong to me.\"\n",
      "  },\n",
      "  {\n",
      "    \"score\": 0.08610764890909195,\n",
      "    \"token\": 2032,\n",
      "    \"token_str\": \"him\",\n",
      "    \"sequence\": \"all your base are belong to him.\"\n",
      "  },\n",
      "  {\n",
      "    \"score\": 0.054536789655685425,\n",
      "    \"token\": 2017,\n",
      "    \"token_str\": \"you\",\n",
      "    \"sequence\": \"all your base are belong to you.\"\n",
      "  },\n",
      "  {\n",
      "    \"score\": 0.04619930312037468,\n",
      "    \"token\": 2149,\n",
      "    \"token_str\": \"us\",\n",
      "    \"sequence\": \"all your base are belong to us.\"\n",
      "  },\n",
      "  {\n",
      "    \"score\": 0.03938837721943855,\n",
      "    \"token\": 2068,\n",
      "    \"token_str\": \"them\",\n",
      "    \"sequence\": \"all your base are belong to them.\"\n",
      "  }\n",
      "]\n"
     ]
    }
   ],
   "source": [
    "print(requests.put('http://127.0.0.1:8000/my_model', \n",
    "             '{ \"input\": \"All your base are belong to [MASK].\" }').text)"
   ]
  },
  {
   "cell_type": "markdown",
   "id": "b6afd04d-ab4b-4573-a65d-615846d615dd",
   "metadata": {},
   "source": [
    "Text goes here"
   ]
  },
  {
   "cell_type": "code",
   "execution_count": 25,
   "id": "33920dd8-32ff-47cb-976e-13251819318d",
   "metadata": {},
   "outputs": [],
   "source": [
    "@ray.remote\n",
    "class PipelineActor:\n",
    "    '''\n",
    "    Threaded Ray actor\n",
    "    '''\n",
    "    def __init__(self):\n",
    "        transformers.logging.set_verbosity_error()\n",
    "        pipeline_tmp = transformers.pipeline('fill-mask', model='bert-base-uncased')\n",
    "        self._pipeline = zerocopy.rewrite_pipeline(pipeline_tmp)\n",
    "    \n",
    "    def run(self, input_: str):\n",
    "        # Model inference calls inside this pipeline will happen in remote\n",
    "        # Ray tasks.\n",
    "        return self._pipeline(input_)\n",
    "\n",
    "    \n",
    "@serve.deployment\n",
    "class MyDeployment2:\n",
    "    def __init__(self):\n",
    "        self._pipeline_actor = PipelineActor.options(max_concurrency=100,\n",
    "                                                     num_cpus=0.1).remote()\n",
    "        \n",
    "    async def __call__(self, request: starlette.requests.Request):\n",
    "        json_request = await request.json()\n",
    "        input_ = json_request['input']\n",
    "        \n",
    "        result = await self._pipeline_actor.run.remote(input_)\n",
    "        return result"
   ]
  },
  {
   "cell_type": "code",
   "execution_count": 27,
   "id": "ef46a02f-b940-486d-9abe-cf9bdd6c4d7a",
   "metadata": {},
   "outputs": [
    {
     "name": "stderr",
     "output_type": "stream",
     "text": [
      "2022-03-04 16:17:48,921\tINFO api.py:249 -- Updating deployment 'my_model2'. component=serve deployment=my_model2\n",
      "\u001b[2m\u001b[36m(ServeController pid=16252)\u001b[0m 2022-03-04 16:17:48,952\tINFO deployment_state.py:920 -- Adding 1 replicas to deployment 'my_model2'. component=serve deployment=my_model2\n",
      "2022-03-04 16:17:49,281\tINFO api.py:261 -- Deployment 'my_model2' is ready at `http://127.0.0.1:8000/my_model2`. component=serve deployment=my_model2\n"
     ]
    }
   ],
   "source": [
    "MyDeployment2.options(name='my_model2', ray_actor_options={\"num_cpus\": 0}).deploy()"
   ]
  },
  {
   "cell_type": "code",
   "execution_count": 28,
   "id": "0cc6889f-d3d5-46e0-b60d-1e5e37a225c5",
   "metadata": {},
   "outputs": [
    {
     "name": "stdout",
     "output_type": "stream",
     "text": [
      "[\n",
      "  {\n",
      "    \"score\": 0.6013057231903076,\n",
      "    \"token\": 2033,\n",
      "    \"token_str\": \"me\",\n",
      "    \"sequence\": \"all your base are belong to me.\"\n",
      "  },\n",
      "  {\n",
      "    \"score\": 0.08610764890909195,\n",
      "    \"token\": 2032,\n",
      "    \"token_str\": \"him\",\n",
      "    \"sequence\": \"all your base are belong to him.\"\n",
      "  },\n",
      "  {\n",
      "    \"score\": 0.054536789655685425,\n",
      "    \"token\": 2017,\n",
      "    \"token_str\": \"you\",\n",
      "    \"sequence\": \"all your base are belong to you.\"\n",
      "  },\n",
      "  {\n",
      "    \"score\": 0.04619930312037468,\n",
      "    \"token\": 2149,\n",
      "    \"token_str\": \"us\",\n",
      "    \"sequence\": \"all your base are belong to us.\"\n",
      "  },\n",
      "  {\n",
      "    \"score\": 0.03938837721943855,\n",
      "    \"token\": 2068,\n",
      "    \"token_str\": \"them\",\n",
      "    \"sequence\": \"all your base are belong to them.\"\n",
      "  }\n",
      "]\n"
     ]
    }
   ],
   "source": [
    "print(requests.put('http://127.0.0.1:8000/my_model2', \n",
    "             '{ \"input\": \"All your base are belong to [MASK].\" }').text)"
   ]
  },
  {
   "cell_type": "markdown",
   "id": "6dd77fc0-06fb-409f-9b80-7a17be557251",
   "metadata": {},
   "source": [
    "Text goes here"
   ]
  },
  {
   "cell_type": "code",
   "execution_count": 18,
   "id": "95790e6e-c8a4-4419-8b88-b50b8ead26e4",
   "metadata": {},
   "outputs": [],
   "source": [
    "@serve.deployment\n",
    "class ThreadedDeployment:\n",
    "    def __init__(self):\n",
    "        transformers.logging.set_verbosity_error()\n",
    "        pipeline_tmp = transformers.pipeline('fill-mask', model='bert-base-uncased')\n",
    "        self._pipeline = zerocopy.rewrite_pipeline(pipeline_tmp)\n",
    "        \n",
    "        self._threadpool = concurrent.futures.ThreadPoolExecutor()\n",
    "        \n",
    "    async def __call__(self, request: starlette.requests.Request):\n",
    "        '''\n",
    "        Web service entry point.\n",
    "        \n",
    "        Args:\n",
    "            request: HTTP request object for a REST web service call\n",
    "                     in the form:\n",
    "                     { \"input\": \"<input text with [MASK]>\" }\n",
    "        '''\n",
    "        # Parse JSON. A real deployment would also sanitize the input.\n",
    "        json_request = await request.json()\n",
    "        masked_string = json_request['input']\n",
    "        \n",
    "        # The original `transformers` code is not async-aware, so we\n",
    "        # call it from `run_in_executor()`.\n",
    "        # Preprocessing and postprocessing code will happen inside this\n",
    "        # process, but model inference will occur in a remote Ray task.\n",
    "        # While that task is running, the local thread will block on\n",
    "        # a call to `ray.get()`\n",
    "        result = await asyncio.get_running_loop().run_in_executor(\n",
    "             self._threadpool, lambda: self._pipeline(masked_string))\n",
    "        return result\n"
   ]
  },
  {
   "cell_type": "markdown",
   "id": "2789fa4d-58aa-48b6-a4ba-3af62b9c7e46",
   "metadata": {},
   "source": [
    "Text goes here.\n",
    "\n",
    "preprocessing and postprocessing happen inside the local thread pool, but model inference occurs in Ray tasks\n",
    "\n",
    "each thread spends most of its time blocked waiting for the Ray task to complete\n",
    "so the local overhead of the threads is minimal"
   ]
  },
  {
   "cell_type": "code",
   "execution_count": 19,
   "id": "0210e287-2ee5-4c8d-b784-b29e282323d7",
   "metadata": {},
   "outputs": [
    {
     "name": "stderr",
     "output_type": "stream",
     "text": [
      "2022-03-04 16:03:01,843\tINFO api.py:249 -- Updating deployment 'my_model'. component=serve deployment=my_model\n",
      "\u001b[2m\u001b[36m(ServeController pid=16252)\u001b[0m 2022-03-04 16:03:01,923\tINFO deployment_state.py:882 -- Stopping 1 replicas of deployment 'my_model' with outdated versions. component=serve deployment=my_model\n",
      "\u001b[2m\u001b[36m(ServeController pid=16252)\u001b[0m 2022-03-04 16:03:04,038\tINFO deployment_state.py:920 -- Adding 1 replicas to deployment 'my_model'. component=serve deployment=my_model\n",
      "2022-03-04 16:03:11,079\tINFO api.py:261 -- Deployment 'my_model' is ready at `http://127.0.0.1:8000/my_model`. component=serve deployment=my_model\n"
     ]
    }
   ],
   "source": [
    "ThreadedDeployment.options(name='my_model', ray_actor_options={\"num_cpus\": 0.1}).deploy()"
   ]
  },
  {
   "cell_type": "markdown",
   "id": "799ee145-0e88-44c4-b101-37654fa884c3",
   "metadata": {},
   "source": [
    "Text goes here"
   ]
  },
  {
   "cell_type": "code",
   "execution_count": 20,
   "id": "923cf583-abb2-4757-b513-eb98578db1d1",
   "metadata": {},
   "outputs": [
    {
     "name": "stdout",
     "output_type": "stream",
     "text": [
      "[\n",
      "  {\n",
      "    \"score\": 0.6013057231903076,\n",
      "    \"token\": 2033,\n",
      "    \"token_str\": \"me\",\n",
      "    \"sequence\": \"all your base are belong to me.\"\n",
      "  },\n",
      "  {\n",
      "    \"score\": 0.08610764890909195,\n",
      "    \"token\": 2032,\n",
      "    \"token_str\": \"him\",\n",
      "    \"sequence\": \"all your base are belong to him.\"\n",
      "  },\n",
      "  {\n",
      "    \"score\": 0.054536789655685425,\n",
      "    \"token\": 2017,\n",
      "    \"token_str\": \"you\",\n",
      "    \"sequence\": \"all your base are belong to you.\"\n",
      "  },\n",
      "  {\n",
      "    \"score\": 0.04619930312037468,\n",
      "    \"token\": 2149,\n",
      "    \"token_str\": \"us\",\n",
      "    \"sequence\": \"all your base are belong to us.\"\n",
      "  },\n",
      "  {\n",
      "    \"score\": 0.03938837721943855,\n",
      "    \"token\": 2068,\n",
      "    \"token_str\": \"them\",\n",
      "    \"sequence\": \"all your base are belong to them.\"\n",
      "  }\n",
      "]\n"
     ]
    }
   ],
   "source": [
    "print(requests.put('http://127.0.0.1:8000/my_model', \n",
    "             '{ \"input\": \"All your base are belong to [MASK].\" }').text)"
   ]
  },
  {
   "cell_type": "code",
   "execution_count": null,
   "id": "a4614552-0203-4ecc-a7c3-986c78c8c19e",
   "metadata": {},
   "outputs": [],
   "source": [
    "# Don't include this cell in the blog.\n",
    "# Stop this notebook's copy of Ray so as not to interfere with the\n",
    "# copy in `ray_deploy.ipynb`\n",
    "serve.shutdown()\n",
    "ray.shutdown()"
   ]
  },
  {
   "cell_type": "markdown",
   "id": "b13eccd9",
   "metadata": {},
   "source": [
    "## The Scenario\n",
    "\n",
    "The end-to-end scenario for our benchmark involves supporting an AI chatbot.\n",
    "The chatbot's conversational AI runs off of a conversation tree. Some of the \n",
    "nodes of this tree invoke models.\n",
    "\n",
    "\n",
    "> **TODO:** Cartoon block diagram of the end-to-end scenario. \n",
    "> Diagram should show a user interacting with a chatbot. The chatbot runs off of a conversation tree. \n",
    "> Some of the nodes of the conversation tree have question answering models hanging off of them.\n",
    "\n"
   ]
  },
  {
   "cell_type": "markdown",
   "id": "d7dc5ddc-35bc-4c70-b3c8-c9e0debbc8bb",
   "metadata": {},
   "source": [
    "Our benchmark will cover the model serving portion of the chatbot's backend. This \n",
    "model serving layer runs four different types of models:\n",
    "* *Intent detection* models that determine what is the user's goal.\n",
    "* *Sentiment analysis* models that monitor the user's mood.\n",
    "* *Question answering* models that provide the answers to specific factual questions.\n",
    "* *Natural language generation* models that give the chatbot's responses a less scripted flavor.\n",
    "\n",
    "Because the chatbot speaks 3 different languages, there are three versions of\n",
    "each model deployed: one for each language. So the model serving layer runs a total of\n",
    "12 models.\n",
    "\n",
    "In a real application, you would want to train custom versions of each type\n",
    "of model for the topics your chatbot covers.\n",
    "Since we're only interested in modeling throughput and latency, we skipped that customization\n",
    "step and just used the most popular pretrained model from each category from the \n",
    "[Huggingface model marketplace](https://huggingface.co/models).\n",
    "\n",
    "Each of these models uses a [Transformer](https://arxiv.org/abs/1706.03762)-based neural network,\n",
    "with a *language model* and a task specific *head*, tuned over \n",
    "a domain-specific training set.  The table below summarizes the four models that we used.\n",
    "\n",
    "\n",
    "| Task                 | Model Name                                   | Language Model  |  Pre/post Processing\n",
    "| -----------          | -----------                                  | ------------    | ---------------\n",
    "| Intent Detection     | `mrm8488/t5-base-finetuned-e2m-intent`       | T5              | Reference code\n",
    "| Sentiment Analysis   | `cardiffnlp/twitter-roberta-base-sentiment`  | RoBERTa         | Reference code\n",
    "| Question Answering   | `deepset/roberta-base-squad2`                | RoBERTa         | Pipeline\n",
    "| Text Generation      | `gpt2`                                       | GPT-2           | Pipeline\n",
    "\n",
    "\n",
    "Although all four models came from the same marketplace, they are quite diverse. The models use three different core language models: [Text-to-Text Transfer Transformer](https://arxiv.org/pdf/1910.10683.pdf) (T5) from Google Research, \n",
    "[RoBERTa](https://arxiv.org/pdf/1907.11692.pdf) from Facebook AI, and [GPT-2](https://d4mucfpksywv.cloudfront.net/better-language-models/language-models.pdf) from OpenAI. \n",
    "\n",
    "The models also use two very different ways to package their preprocessing and postprocessing code. The intent and sentiment models provide small blocks of reference Python code, with the intent being that the user will adapt this reference code to the specific circumstances of the end-to-end appliction. \n",
    "\n",
    "The question answering and text generation models both use the Transformers library's [Pipelines API](https://huggingface.co/docs/transformers/main_classes/pipelines) to package their preprocessing and postprocesing code. Unlike the \"example reference code\" approach, the Pipelines API's end-to-end inference code is intended for direct production use. It includes support for model retraining, as well as performance optimizations like batching and GPU acceleration, plus code for handling corner cases like long input strings. This prepackaged code can save a lot of time, provided that your application is structured in a way that can easily accomodate a large block of non-modifiable third-party Python code."
   ]
  },
  {
   "cell_type": "markdown",
   "id": "5494b1aa",
   "metadata": {},
   "source": [
    "## Baseline implementation\n",
    "\n",
    "Our baseline implementation of the model serving backend for our benchmark emulates running each model in a separate container. We used [TorchServe](https://pytorch.org/serve/) as our model serving framework for the baseline deployment. By configuing TorchServe to use a pool of processes, we were able to simulate running each model in a separate container without having to set up a dedicated Kubernetes cluster. See [this notebook](./torchserve.ipynb) for details of the TorchServe deployment.\n",
    "\n",
    "*Note that earlier versions of this notebook implemented the baseline model deployment with a pool of Ray actors. That older version is preserved in [a separate notebook](./ray_baseline.ipynb).*\n",
    "\n",
    "With TorchServe running in the background, we can invoke our models via their REST APIs."
   ]
  },
  {
   "cell_type": "code",
   "execution_count": null,
   "id": "3025582b-6588-42c8-ba47-545903b3511d",
   "metadata": {},
   "outputs": [],
   "source": [
    "# Don't include this cell in the blog.\n",
    "# Probe the management API to verify that TorchServe is running.\n",
    "try:\n",
    "    print(requests.get('http://127.0.0.1:8081/models').json())\n",
    "except requests.exceptions.ConnectionError:\n",
    "    # Stop notebook execution\n",
    "    raise ValueError('TorchServe does not appear to be running. Please start TorchServe.') from None"
   ]
  },
  {
   "cell_type": "code",
   "execution_count": null,
   "id": "c011ecef-438d-458d-a542-90118b7d36a9",
   "metadata": {},
   "outputs": [],
   "source": [
    "TORCHSERVE_PORT = 8080\n",
    "SENTIMENT_INPUT = {\n",
    "    'context': \"We're not happy unless you're not happy.\"\n",
    "}\n",
    "GENERATE_INPUT = {\n",
    "    'prompt_text': 'All your base are'\n",
    "}\n",
    "\n",
    "intent_result = requests.put(\n",
    "    f'http://127.0.0.1:{TORCHSERVE_PORT}/predictions/intent_en',\n",
    "    json.dumps(INTENT_INPUT)).json()\n",
    "print(f'Intent result: {intent_result}')\n",
    "\n",
    "sentiment_result = requests.put(\n",
    "    f'http://127.0.0.1:{TORCHSERVE_PORT}/predictions/sentiment_en',\n",
    "    json.dumps(SENTIMENT_INPUT)).json()\n",
    "print(f'Sentiment result: {sentiment_result}')\n",
    "\n",
    "qa_result = requests.put(\n",
    "    f'http://127.0.0.1:{TORCHSERVE_PORT}/predictions/qa_en',\n",
    "    json.dumps(QA_INPUT)).json()\n",
    "print(f'Question answering result: {qa_result}')\n",
    "\n",
    "generate_result = requests.put(\n",
    "    f'http://127.0.0.1:{TORCHSERVE_PORT}/predictions/generate_en',\n",
    "    json.dumps(GENERATE_INPUT)).json()\n",
    "print(f'Natural language generation result: {generate_result}')"
   ]
  },
  {
   "cell_type": "markdown",
   "id": "dc6796f9-841b-4b8f-aaa7-8812dbbd097c",
   "metadata": {},
   "source": [
    "## Zero-copy implementation\n",
    "\n",
    "TODO: Describe how we deployed the four models, with reference to [this notebook](./ray_deploy.ipynb) that shows the code"
   ]
  },
  {
   "cell_type": "markdown",
   "id": "60fc4316-86af-481f-8cc0-887a88c30c0d",
   "metadata": {},
   "source": [
    "## The Benchmark\n",
    "\n",
    "Now that we have deployed each of our models with a web service front end, we can define a benchmark that sends inference traffic to these web service endpoints and measures response time.\n",
    "\n",
    "TODO: Cite a reference for Poisson being a realistic distribution of traffic for interactive services.\n",
    "\n",
    "Our benchmark generates a trace of requests, then plays back the trace and measures the latency of each request. The request rate changes each second, with the rate of a particular 1-second window drawn from the Poisson distribution. Each request goes to a randomly-selected model. The choice of models is weighted according to a truncated Poisson distribution.  \n",
    "\n",
    "The benchmark plays back the trace, measuring the end-to-end latency of each request. We repeat this process of generating and playing back the trace, gradually ramping up the average request rate of the bursty traffic until requests start timing out.\n",
    "\n",
    "Code is [here](./benchmark.py)"
   ]
  },
  {
   "cell_type": "markdown",
   "id": "7403c8b3-7dda-4c32-86ec-1ba0eee6be34",
   "metadata": {},
   "source": [
    "### Baseline benchmark run"
   ]
  },
  {
   "cell_type": "code",
   "execution_count": null,
   "id": "3ab0e951-9592-48f2-94e4-07c328e2965c",
   "metadata": {},
   "outputs": [],
   "source": [
    "# Don't include this cell in the blog.\n",
    "# Probe the management API to verify that TorchServe is running.\n",
    "try:\n",
    "    print(requests.get('http://127.0.0.1:8081/models').json())\n",
    "except requests.exceptions.ConnectionError:\n",
    "    # Stop notebook execution\n",
    "    raise ValueError('TorchServe does not appear to be running. Please start TorchServe.') from None"
   ]
  },
  {
   "cell_type": "code",
   "execution_count": 30,
   "id": "510f535f-12a8-4104-a9c1-ea4c0a24936d",
   "metadata": {},
   "outputs": [
    {
     "name": "stdout",
     "output_type": "stream",
     "text": [
      "port is 8080 and output CSV file is outputs/baseline.csv\n",
      "Running at 2 requests/sec.\n",
      " => 0.0% failure rate\n",
      "Running at 2.5 requests/sec.\n",
      " => 0.0% failure rate\n",
      "Running at 3.0 requests/sec.\n",
      " => 0.0% failure rate\n",
      "Running at 3.5 requests/sec.\n",
      " => 0.0% failure rate\n",
      "Running at 4.0 requests/sec.\n",
      " => 0.0% failure rate\n",
      "Running at 4.5 requests/sec.\n",
      " => 0.0% failure rate\n",
      "Running at 5.0 requests/sec.\n",
      " => 56.1% failure rate\n",
      "Running at 5.5 requests/sec.\n",
      " => 73.4% failure rate\n",
      "Stopping due to fraction of failures (0.7337110481586402) exceeding allowable limit (0.6)\n"
     ]
    }
   ],
   "source": [
    "# This call may be disabled to avoid overwriting local results.\n",
    "# Toggle cell type to \"code\" to run.\n",
    "!python3 benchmark.py 8080 outputs/baseline.csv"
   ]
  },
  {
   "cell_type": "code",
   "execution_count": 32,
   "id": "4c948be2-7759-4ee1-866c-ef52df1cd2bd",
   "metadata": {},
   "outputs": [],
   "source": [
    "# Don't include this cell in the blog.\n",
    "# Make sure that TorchServe is shut down before we continue.\n",
    "torchserve_is_running = True\n",
    "try:\n",
    "    requests.get('http://127.0.0.1:8081/models').json()\n",
    "except requests.exceptions.ConnectionError:\n",
    "    torchserve_is_running = False\n",
    "if torchserve_is_running:\n",
    "    raise ValueError('Please shut down TorchServe before continuing.')"
   ]
  },
  {
   "cell_type": "markdown",
   "id": "06033854-2849-450f-b7e2-382f79b5654b",
   "metadata": {},
   "source": [
    "### Optimized benchmark run"
   ]
  },
  {
   "cell_type": "code",
   "execution_count": 43,
   "id": "5f71e2ec-77c9-4ef1-abea-dc3fad338794",
   "metadata": {},
   "outputs": [],
   "source": [
    "# Make sure the Ray models are up\n",
    "try:\n",
    "    INTENT_INPUT = {\n",
    "        'context':\n",
    "            (\"I came here to eat chips and beat you up, \"\n",
    "             \"and I'm all out of chips.\")\n",
    "    }\n",
    "    requests.put(\n",
    "        'http://127.0.0.1:8000/predictions/intent_en', \n",
    "        json.dumps(INTENT_INPUT)).json()\n",
    "except requests.exceptions.ConnectionError as e:\n",
    "    raise ValueError('Please start up the zero-copy model deployment before continuing.') from None"
   ]
  },
  {
   "cell_type": "code",
   "execution_count": 44,
   "id": "cb1a2c9a-7bad-49cf-98f6-bdd5712494af",
   "metadata": {},
   "outputs": [
    {
     "name": "stdout",
     "output_type": "stream",
     "text": [
      "port is 8000 and output CSV file is outputs/zerocopy.csv\n",
      "Running at 2 requests/sec.\n",
      " => 0.0% failure rate\n",
      "Running at 2.5 requests/sec.\n",
      " => 0.0% failure rate\n",
      "Running at 3.0 requests/sec.\n",
      " => 0.0% failure rate\n",
      "Running at 3.5 requests/sec.\n",
      " => 0.0% failure rate\n",
      "Running at 4.0 requests/sec.\n",
      " => 1.3% failure rate\n",
      "Running at 4.5 requests/sec.\n",
      " => 5.8% failure rate\n",
      "Running at 5.0 requests/sec.\n",
      " => 6.6% failure rate\n",
      "Running at 5.5 requests/sec.\n",
      " => 13.0% failure rate\n",
      "Running at 6.0 requests/sec.\n",
      " => 8.0% failure rate\n",
      "Running at 6.5 requests/sec.\n",
      " => 6.5% failure rate\n",
      "Running at 7.0 requests/sec.\n",
      " => 5.8% failure rate\n",
      "Running at 7.5 requests/sec.\n",
      " => 10.0% failure rate\n",
      "Running at 8.0 requests/sec.\n",
      " => 6.7% failure rate\n",
      "Running at 8.5 requests/sec.\n",
      " => 5.0% failure rate\n",
      "Running at 9.0 requests/sec.\n",
      " => 5.8% failure rate\n",
      "Running at 9.5 requests/sec.\n",
      " => 14.1% failure rate\n",
      "Running at 10.0 requests/sec.\n",
      " => 5.0% failure rate\n",
      "Running at 10.5 requests/sec.\n",
      " => 8.3% failure rate\n",
      "Running at 11.0 requests/sec.\n",
      " => 49.4% failure rate\n",
      "Running at 11.5 requests/sec.\n",
      " => 66.3% failure rate\n",
      "Stopping due to fraction of failures (0.6632047477744807) exceeding allowable limit (0.6)\n"
     ]
    }
   ],
   "source": [
    "# This call may be disabled to avoid overwriting local results.\n",
    "# Toggle cell type to \"code\" to run.\n",
    "!python3 benchmark.py 8000 outputs/zerocopy.csv"
   ]
  },
  {
   "cell_type": "markdown",
   "id": "0c15aebd-46d9-41f1-9ae4-1947cb51b0b1",
   "metadata": {},
   "source": [
    "### Result analysis"
   ]
  },
  {
   "cell_type": "code",
   "execution_count": 45,
   "id": "c4f8696c",
   "metadata": {},
   "outputs": [],
   "source": [
    "# Don't include this cell in the blog\n",
    "\n",
    "# Aggregate benchmark results.\n",
    "def compute_stats(results_df: pd.DataFrame) -> pd.DataFrame:\n",
    "    timeout_results = results_df[results_df['result_code'] != 200]\n",
    "    success_results = results_df[results_df['result_code'] == 200]\n",
    "\n",
    "    timeout_counts = (\n",
    "        timeout_results\n",
    "        .groupby('request_rate')\n",
    "        .aggregate({'request_id': 'count'})\n",
    "        .rename(columns={'request_id': 'timeouts'}))\n",
    "    stats = (\n",
    "        success_results\n",
    "        .groupby('request_rate')\n",
    "        .aggregate({'latency': ['mean', 'median', 'max'],\n",
    "                    'request_id': 'count'}))\n",
    "\n",
    "    # Column names come out from the aggregations all messed up\n",
    "    stats.columns=['mean', 'median', 'max', 'successes']\n",
    "    stats = stats.join(timeout_counts).fillna(0)\n",
    "    stats['timeout_fraction'] = stats['timeouts'] / (stats['successes'] + stats['timeouts'])\n",
    "    return stats\n",
    "\n",
    "def maybe_generate_agg(prefix: str):\n",
    "    '''\n",
    "    Regenerate aggregate results for a benchmark run if a trace\n",
    "    is present.\n",
    "    \n",
    "    :param prefix: Name of run, i.e. 'baseline' or 'zerocopy'\n",
    "    '''\n",
    "    if os.path.exists(f'outputs/{prefix}.csv'):\n",
    "        results = pd.read_csv(f'outputs/{prefix}.csv')\n",
    "        stats = compute_stats(results)\n",
    "        stats.to_csv(f'outputs/{prefix}_agg.csv')\n",
    "        \n",
    "maybe_generate_agg('baseline')\n",
    "maybe_generate_agg('zerocopy')"
   ]
  },
  {
   "cell_type": "code",
   "execution_count": 46,
   "id": "7d9f5747",
   "metadata": {},
   "outputs": [
    {
     "data": {
      "text/html": [
       "<div>\n",
       "<style scoped>\n",
       "    .dataframe tbody tr th:only-of-type {\n",
       "        vertical-align: middle;\n",
       "    }\n",
       "\n",
       "    .dataframe tbody tr th {\n",
       "        vertical-align: top;\n",
       "    }\n",
       "\n",
       "    .dataframe thead th {\n",
       "        text-align: right;\n",
       "    }\n",
       "</style>\n",
       "<table border=\"1\" class=\"dataframe\">\n",
       "  <thead>\n",
       "    <tr style=\"text-align: right;\">\n",
       "      <th></th>\n",
       "      <th>request_rate</th>\n",
       "      <th>mean</th>\n",
       "      <th>median</th>\n",
       "      <th>max</th>\n",
       "      <th>successes</th>\n",
       "      <th>timeouts</th>\n",
       "      <th>timeout_fraction</th>\n",
       "    </tr>\n",
       "  </thead>\n",
       "  <tbody>\n",
       "    <tr>\n",
       "      <th>0</th>\n",
       "      <td>2.0</td>\n",
       "      <td>0.313566</td>\n",
       "      <td>0.311650</td>\n",
       "      <td>0.620853</td>\n",
       "      <td>109</td>\n",
       "      <td>0.0</td>\n",
       "      <td>0.000000</td>\n",
       "    </tr>\n",
       "    <tr>\n",
       "      <th>1</th>\n",
       "      <td>2.5</td>\n",
       "      <td>0.342991</td>\n",
       "      <td>0.311077</td>\n",
       "      <td>0.983981</td>\n",
       "      <td>147</td>\n",
       "      <td>0.0</td>\n",
       "      <td>0.000000</td>\n",
       "    </tr>\n",
       "    <tr>\n",
       "      <th>2</th>\n",
       "      <td>3.0</td>\n",
       "      <td>0.365949</td>\n",
       "      <td>0.319422</td>\n",
       "      <td>0.996296</td>\n",
       "      <td>183</td>\n",
       "      <td>0.0</td>\n",
       "      <td>0.000000</td>\n",
       "    </tr>\n",
       "    <tr>\n",
       "      <th>3</th>\n",
       "      <td>3.5</td>\n",
       "      <td>0.429346</td>\n",
       "      <td>0.358365</td>\n",
       "      <td>1.263816</td>\n",
       "      <td>209</td>\n",
       "      <td>0.0</td>\n",
       "      <td>0.000000</td>\n",
       "    </tr>\n",
       "    <tr>\n",
       "      <th>4</th>\n",
       "      <td>4.0</td>\n",
       "      <td>0.672837</td>\n",
       "      <td>0.654021</td>\n",
       "      <td>1.760497</td>\n",
       "      <td>227</td>\n",
       "      <td>0.0</td>\n",
       "      <td>0.000000</td>\n",
       "    </tr>\n",
       "    <tr>\n",
       "      <th>5</th>\n",
       "      <td>4.5</td>\n",
       "      <td>1.911417</td>\n",
       "      <td>2.021288</td>\n",
       "      <td>4.213658</td>\n",
       "      <td>259</td>\n",
       "      <td>0.0</td>\n",
       "      <td>0.000000</td>\n",
       "    </tr>\n",
       "    <tr>\n",
       "      <th>6</th>\n",
       "      <td>5.0</td>\n",
       "      <td>1.258248</td>\n",
       "      <td>0.557560</td>\n",
       "      <td>4.993434</td>\n",
       "      <td>133</td>\n",
       "      <td>170.0</td>\n",
       "      <td>0.561056</td>\n",
       "    </tr>\n",
       "    <tr>\n",
       "      <th>7</th>\n",
       "      <td>5.5</td>\n",
       "      <td>0.178513</td>\n",
       "      <td>0.084288</td>\n",
       "      <td>2.148058</td>\n",
       "      <td>94</td>\n",
       "      <td>259.0</td>\n",
       "      <td>0.733711</td>\n",
       "    </tr>\n",
       "  </tbody>\n",
       "</table>\n",
       "</div>"
      ],
      "text/plain": [
       "   request_rate      mean    median       max  successes  timeouts  \\\n",
       "0           2.0  0.313566  0.311650  0.620853        109       0.0   \n",
       "1           2.5  0.342991  0.311077  0.983981        147       0.0   \n",
       "2           3.0  0.365949  0.319422  0.996296        183       0.0   \n",
       "3           3.5  0.429346  0.358365  1.263816        209       0.0   \n",
       "4           4.0  0.672837  0.654021  1.760497        227       0.0   \n",
       "5           4.5  1.911417  2.021288  4.213658        259       0.0   \n",
       "6           5.0  1.258248  0.557560  4.993434        133     170.0   \n",
       "7           5.5  0.178513  0.084288  2.148058         94     259.0   \n",
       "\n",
       "   timeout_fraction  \n",
       "0          0.000000  \n",
       "1          0.000000  \n",
       "2          0.000000  \n",
       "3          0.000000  \n",
       "4          0.000000  \n",
       "5          0.000000  \n",
       "6          0.561056  \n",
       "7          0.733711  "
      ]
     },
     "execution_count": 46,
     "metadata": {},
     "output_type": "execute_result"
    }
   ],
   "source": [
    "# Load up the baseline results\n",
    "baseline_stats = pd.read_csv('outputs/baseline_agg.csv')\n",
    "baseline_stats"
   ]
  },
  {
   "cell_type": "code",
   "execution_count": 47,
   "id": "e5bb6f85-63ad-427d-875c-24ca86ad4bc8",
   "metadata": {},
   "outputs": [
    {
     "data": {
      "text/html": [
       "<div>\n",
       "<style scoped>\n",
       "    .dataframe tbody tr th:only-of-type {\n",
       "        vertical-align: middle;\n",
       "    }\n",
       "\n",
       "    .dataframe tbody tr th {\n",
       "        vertical-align: top;\n",
       "    }\n",
       "\n",
       "    .dataframe thead th {\n",
       "        text-align: right;\n",
       "    }\n",
       "</style>\n",
       "<table border=\"1\" class=\"dataframe\">\n",
       "  <thead>\n",
       "    <tr style=\"text-align: right;\">\n",
       "      <th></th>\n",
       "      <th>request_rate</th>\n",
       "      <th>mean</th>\n",
       "      <th>median</th>\n",
       "      <th>max</th>\n",
       "      <th>successes</th>\n",
       "      <th>timeouts</th>\n",
       "      <th>timeout_fraction</th>\n",
       "    </tr>\n",
       "  </thead>\n",
       "  <tbody>\n",
       "    <tr>\n",
       "      <th>0</th>\n",
       "      <td>2.0</td>\n",
       "      <td>0.408997</td>\n",
       "      <td>0.301005</td>\n",
       "      <td>3.089440</td>\n",
       "      <td>109</td>\n",
       "      <td>0.0</td>\n",
       "      <td>0.000000</td>\n",
       "    </tr>\n",
       "    <tr>\n",
       "      <th>1</th>\n",
       "      <td>2.5</td>\n",
       "      <td>0.689526</td>\n",
       "      <td>0.311503</td>\n",
       "      <td>4.142979</td>\n",
       "      <td>147</td>\n",
       "      <td>0.0</td>\n",
       "      <td>0.000000</td>\n",
       "    </tr>\n",
       "    <tr>\n",
       "      <th>2</th>\n",
       "      <td>3.0</td>\n",
       "      <td>0.402645</td>\n",
       "      <td>0.301247</td>\n",
       "      <td>3.347312</td>\n",
       "      <td>183</td>\n",
       "      <td>0.0</td>\n",
       "      <td>0.000000</td>\n",
       "    </tr>\n",
       "    <tr>\n",
       "      <th>3</th>\n",
       "      <td>3.5</td>\n",
       "      <td>0.573503</td>\n",
       "      <td>0.309472</td>\n",
       "      <td>3.800097</td>\n",
       "      <td>209</td>\n",
       "      <td>0.0</td>\n",
       "      <td>0.000000</td>\n",
       "    </tr>\n",
       "    <tr>\n",
       "      <th>4</th>\n",
       "      <td>4.0</td>\n",
       "      <td>1.444287</td>\n",
       "      <td>0.852400</td>\n",
       "      <td>4.668393</td>\n",
       "      <td>224</td>\n",
       "      <td>3.0</td>\n",
       "      <td>0.013216</td>\n",
       "    </tr>\n",
       "    <tr>\n",
       "      <th>5</th>\n",
       "      <td>4.5</td>\n",
       "      <td>1.490221</td>\n",
       "      <td>0.855068</td>\n",
       "      <td>4.993091</td>\n",
       "      <td>244</td>\n",
       "      <td>15.0</td>\n",
       "      <td>0.057915</td>\n",
       "    </tr>\n",
       "    <tr>\n",
       "      <th>6</th>\n",
       "      <td>5.0</td>\n",
       "      <td>1.371780</td>\n",
       "      <td>0.818604</td>\n",
       "      <td>4.899146</td>\n",
       "      <td>283</td>\n",
       "      <td>20.0</td>\n",
       "      <td>0.066007</td>\n",
       "    </tr>\n",
       "    <tr>\n",
       "      <th>7</th>\n",
       "      <td>5.5</td>\n",
       "      <td>1.478960</td>\n",
       "      <td>1.301579</td>\n",
       "      <td>4.981363</td>\n",
       "      <td>307</td>\n",
       "      <td>46.0</td>\n",
       "      <td>0.130312</td>\n",
       "    </tr>\n",
       "    <tr>\n",
       "      <th>8</th>\n",
       "      <td>6.0</td>\n",
       "      <td>1.609648</td>\n",
       "      <td>1.250937</td>\n",
       "      <td>4.954760</td>\n",
       "      <td>334</td>\n",
       "      <td>29.0</td>\n",
       "      <td>0.079890</td>\n",
       "    </tr>\n",
       "    <tr>\n",
       "      <th>9</th>\n",
       "      <td>6.5</td>\n",
       "      <td>1.548910</td>\n",
       "      <td>1.251555</td>\n",
       "      <td>4.910374</td>\n",
       "      <td>357</td>\n",
       "      <td>25.0</td>\n",
       "      <td>0.065445</td>\n",
       "    </tr>\n",
       "    <tr>\n",
       "      <th>10</th>\n",
       "      <td>7.0</td>\n",
       "      <td>1.785618</td>\n",
       "      <td>1.553264</td>\n",
       "      <td>4.950860</td>\n",
       "      <td>391</td>\n",
       "      <td>24.0</td>\n",
       "      <td>0.057831</td>\n",
       "    </tr>\n",
       "    <tr>\n",
       "      <th>11</th>\n",
       "      <td>7.5</td>\n",
       "      <td>1.957743</td>\n",
       "      <td>1.617995</td>\n",
       "      <td>4.912470</td>\n",
       "      <td>405</td>\n",
       "      <td>45.0</td>\n",
       "      <td>0.100000</td>\n",
       "    </tr>\n",
       "    <tr>\n",
       "      <th>12</th>\n",
       "      <td>8.0</td>\n",
       "      <td>1.703809</td>\n",
       "      <td>1.756327</td>\n",
       "      <td>4.994082</td>\n",
       "      <td>444</td>\n",
       "      <td>32.0</td>\n",
       "      <td>0.067227</td>\n",
       "    </tr>\n",
       "    <tr>\n",
       "      <th>13</th>\n",
       "      <td>8.5</td>\n",
       "      <td>1.702376</td>\n",
       "      <td>1.619443</td>\n",
       "      <td>4.943022</td>\n",
       "      <td>477</td>\n",
       "      <td>25.0</td>\n",
       "      <td>0.049801</td>\n",
       "    </tr>\n",
       "    <tr>\n",
       "      <th>14</th>\n",
       "      <td>9.0</td>\n",
       "      <td>2.066785</td>\n",
       "      <td>1.962502</td>\n",
       "      <td>4.993357</td>\n",
       "      <td>499</td>\n",
       "      <td>31.0</td>\n",
       "      <td>0.058491</td>\n",
       "    </tr>\n",
       "    <tr>\n",
       "      <th>15</th>\n",
       "      <td>9.5</td>\n",
       "      <td>2.516075</td>\n",
       "      <td>2.741317</td>\n",
       "      <td>5.003969</td>\n",
       "      <td>501</td>\n",
       "      <td>82.0</td>\n",
       "      <td>0.140652</td>\n",
       "    </tr>\n",
       "    <tr>\n",
       "      <th>16</th>\n",
       "      <td>10.0</td>\n",
       "      <td>2.307207</td>\n",
       "      <td>2.190499</td>\n",
       "      <td>4.981188</td>\n",
       "      <td>556</td>\n",
       "      <td>29.0</td>\n",
       "      <td>0.049573</td>\n",
       "    </tr>\n",
       "    <tr>\n",
       "      <th>17</th>\n",
       "      <td>10.5</td>\n",
       "      <td>3.006874</td>\n",
       "      <td>3.526240</td>\n",
       "      <td>5.011034</td>\n",
       "      <td>552</td>\n",
       "      <td>50.0</td>\n",
       "      <td>0.083056</td>\n",
       "    </tr>\n",
       "    <tr>\n",
       "      <th>18</th>\n",
       "      <td>11.0</td>\n",
       "      <td>2.488596</td>\n",
       "      <td>2.197583</td>\n",
       "      <td>5.004599</td>\n",
       "      <td>327</td>\n",
       "      <td>319.0</td>\n",
       "      <td>0.493808</td>\n",
       "    </tr>\n",
       "    <tr>\n",
       "      <th>19</th>\n",
       "      <td>11.5</td>\n",
       "      <td>1.343230</td>\n",
       "      <td>0.768448</td>\n",
       "      <td>4.991664</td>\n",
       "      <td>227</td>\n",
       "      <td>447.0</td>\n",
       "      <td>0.663205</td>\n",
       "    </tr>\n",
       "  </tbody>\n",
       "</table>\n",
       "</div>"
      ],
      "text/plain": [
       "    request_rate      mean    median       max  successes  timeouts  \\\n",
       "0            2.0  0.408997  0.301005  3.089440        109       0.0   \n",
       "1            2.5  0.689526  0.311503  4.142979        147       0.0   \n",
       "2            3.0  0.402645  0.301247  3.347312        183       0.0   \n",
       "3            3.5  0.573503  0.309472  3.800097        209       0.0   \n",
       "4            4.0  1.444287  0.852400  4.668393        224       3.0   \n",
       "5            4.5  1.490221  0.855068  4.993091        244      15.0   \n",
       "6            5.0  1.371780  0.818604  4.899146        283      20.0   \n",
       "7            5.5  1.478960  1.301579  4.981363        307      46.0   \n",
       "8            6.0  1.609648  1.250937  4.954760        334      29.0   \n",
       "9            6.5  1.548910  1.251555  4.910374        357      25.0   \n",
       "10           7.0  1.785618  1.553264  4.950860        391      24.0   \n",
       "11           7.5  1.957743  1.617995  4.912470        405      45.0   \n",
       "12           8.0  1.703809  1.756327  4.994082        444      32.0   \n",
       "13           8.5  1.702376  1.619443  4.943022        477      25.0   \n",
       "14           9.0  2.066785  1.962502  4.993357        499      31.0   \n",
       "15           9.5  2.516075  2.741317  5.003969        501      82.0   \n",
       "16          10.0  2.307207  2.190499  4.981188        556      29.0   \n",
       "17          10.5  3.006874  3.526240  5.011034        552      50.0   \n",
       "18          11.0  2.488596  2.197583  5.004599        327     319.0   \n",
       "19          11.5  1.343230  0.768448  4.991664        227     447.0   \n",
       "\n",
       "    timeout_fraction  \n",
       "0           0.000000  \n",
       "1           0.000000  \n",
       "2           0.000000  \n",
       "3           0.000000  \n",
       "4           0.013216  \n",
       "5           0.057915  \n",
       "6           0.066007  \n",
       "7           0.130312  \n",
       "8           0.079890  \n",
       "9           0.065445  \n",
       "10          0.057831  \n",
       "11          0.100000  \n",
       "12          0.067227  \n",
       "13          0.049801  \n",
       "14          0.058491  \n",
       "15          0.140652  \n",
       "16          0.049573  \n",
       "17          0.083056  \n",
       "18          0.493808  \n",
       "19          0.663205  "
      ]
     },
     "execution_count": 47,
     "metadata": {},
     "output_type": "execute_result"
    }
   ],
   "source": [
    "zerocopy_stats = pd.read_csv('outputs/zerocopy_agg.csv')\n",
    "zerocopy_stats"
   ]
  },
  {
   "cell_type": "code",
   "execution_count": 48,
   "id": "41323031-2b33-4835-a40f-cb01e503388a",
   "metadata": {},
   "outputs": [
    {
     "data": {
      "text/plain": [
       "<matplotlib.legend.Legend at 0x7f8511ecbbe0>"
      ]
     },
     "execution_count": 48,
     "metadata": {},
     "output_type": "execute_result"
    },
    {
     "data": {
      "image/png": "[encoded data removed]",
      "text/plain": [
       "<Figure size 504x360 with 1 Axes>"
      ]
     },
     "metadata": {
      "needs_background": "light"
     },
     "output_type": "display_data"
    }
   ],
   "source": [
    "# Plot the two sets of results against each other.\n",
    "plt.rcParams.update({'font.size': 16})\n",
    "plt.figure(figsize=(7, 5))\n",
    "plt.plot(baseline_stats.index, baseline_stats['timeout_fraction'],\n",
    "         \"-o\", label='Without zero-copy loading')\n",
    "plt.plot(zerocopy_stats.index, \n",
    "         zerocopy_stats['timeout_fraction'],\n",
    "         \"-o\", label=\"With zero-copy loading\")\n",
    "plt.xlabel(\"Average Requests per Second\")\n",
    "plt.ylabel(\"Timeout Fraction\")\n",
    "plt.legend()"
   ]
  },
  {
   "cell_type": "code",
   "execution_count": null,
   "id": "bd91dea0-2356-4dee-ae4f-bbfd54cb8561",
   "metadata": {},
   "outputs": [],
   "source": []
  },
  {
   "cell_type": "raw",
   "id": "7bfbbb1e-0f5e-45b5-8462-6e2f9d526bab",
   "metadata": {
    "tags": []
   },
   "source": [
    "# Old code that demos `zerocopy` with the intent model\n",
    "\n",
    "# Preprocessing\n",
    "input_text = f'{INTENT_INPUT[\"context\"]} </s>'\n",
    "features = intent_tokenizer([input_text], return_tensors='pt')\n",
    "\n",
    "# Inference without zero-copy loading\n",
    "print('Result without zero-copy loading: '\n",
    "      + str(intent_model.generate(**features)))\n",
    "\n",
    "# Inference with zero-copy loading\n",
    "intent_model_ref = ray.put(zerocopy.extract_tensors(intent_model))\n",
    "print(' Result *with* zero-copy loading: ' +\n",
    "      str(ray.get(zerocopy.call_model.remote(\n",
    "          intent_model_ref, [], features, 'generate'))))\n",
    "          \n",
    "print(\"       Time to run locally: \", end=\"\")\n",
    "%timeit intent_model.generate(**features)\n",
    "print(\"Time to run with zero-copy: \", end=\"\")\n",
    "%timeit ray.get(zerocopy.call_model.remote(intent_model_ref, [], features, 'generate'))\n",
    "\n",
    "def run_local(num_repeats: int):\n",
    "    for _ in range(num_repeats):\n",
    "        intent_model.generate(**features)\n",
    "\n",
    "\n",
    "def run_zero_copy(num_repeats: int):\n",
    "    futures = [\n",
    "        zerocopy.call_model.remote(intent_model_ref, [], features, 'generate')\n",
    "        for _ in range(num_repeats)]\n",
    "    ray.get(futures)\n",
    "\n",
    "\n",
    "NUM_REPEATS = 50\n",
    "print(f\"Time to run {NUM_REPEATS} times with zero-copy: \", end=\"\")\n",
    "%timeit -r 3 run_zero_copy(NUM_REPEATS)\n",
    "print(f\"       Time to run {NUM_REPEATS} times locally: \", end=\"\")\n",
    "%timeit -r 3 run_local(NUM_REPEATS)"
   ]
  },
  {
   "cell_type": "raw",
   "id": "58769647-0991-4da2-ac40-61960952b09c",
   "metadata": {},
   "source": [
    "# Old code that demos `zerocopy` on the QA model pipeline\n",
    "zero_copy_qa = zerocopy.rewrite_pipeline(qa_pipeline)\n",
    "print(f\"Before rewrite: {qa_pipeline(**QA_INPUT)}\")\n",
    "print(f\" After rewrite: {zero_copy_qa(**QA_INPUT)}\")"
   ]
  }
 ],
 "metadata": {
  "interpreter": {
   "hash": "afa7e0f34d224467fd24b0cfa9c212efa127bdf53fe1c4e3ddf54198f34a39e3"
  },
  "kernelspec": {
   "display_name": "Python 3 (ipykernel)",
   "language": "python",
   "name": "python3"
  },
  "language_info": {
   "codemirror_mode": {
    "name": "ipython",
    "version": 3
   },
   "file_extension": ".py",
   "mimetype": "text/x-python",
   "name": "python",
   "nbconvert_exporter": "python",
   "pygments_lexer": "ipython3",
   "version": "3.8.12"
  }
 },
 "nbformat": 4,
 "nbformat_minor": 5
}
