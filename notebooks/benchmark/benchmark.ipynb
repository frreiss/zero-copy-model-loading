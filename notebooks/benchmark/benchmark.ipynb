{
 "cells": [
  {
   "cell_type": "markdown",
   "id": "b0de8e77-2ee4-464c-b2da-d4983168dfbc",
   "metadata": {},
   "source": [
    "# Easier Model Serving with zerocopy\n",
    "\n",
    "*Serving deep learning models is hard, but it doesn't have to be that way.*\n",
    "\n",
    "In a [previous post](https://medium.com/ibm-data-ai/how-to-load-pytorch-models-340-times-faster-with-ray-8be751a6944c), we introduced the concept of *zero-copy model loading*. Zero-copy model loading involves keeping the weights of a machine learning model in shared memory so that different processes can load the model for inference instantly without copying data.\n",
    "\n",
    "We showed that the Plasma object store integrated into [Ray](https://www.ray.io/) makes it easy to do zero-copy model loading for [PyTorch](https://pytorch.org/) models, and that implementing this technique on Ray can accelerate model loading by several orders of magnitude. If you'd like to find out more about the details of zero-copy model loading, follow [this link](https://medium.com/ibm-data-ai/how-to-load-pytorch-models-340-times-faster-with-ray-8be751a6944c) to view the previous post.\n",
    "\n",
    "In this follow-on post, we focus on how to use zero-copy model loading in deep learning model serving. We introduce `zerocopy`, a Python package that makes it extra simple to apply the technique with PyTorch and Ray. We show how to deploy models using with `zerocopy` and Ray Serve. And then we present an end-to-end model serving benchmark that shows how we can serve multiple large NLP models with a single cloud VM and achieve 7x better scalability with no tuning."
   ]
  },
  {
   "cell_type": "markdown",
   "id": "307f3215-2822-4b67-8349-874bffd8e96b",
   "metadata": {},
   "source": [
    "## Why is Model Serving Hard?\n",
    "\n",
    "The architecture of model serving systems stems largely from a single design constraint: *Loading large models is expensive*. \n",
    "\n",
    "To run inference on a model, you need to have the model's weights loaded into a process's memory. But loading a modern deep learning model is orders of magnitude more expensive than running inference. So you need to keep the model perpetually loaded in a process's memory. Designing a deep learning model inference system reduces to answering the question, *\"How do I manage models running in large, persistent processes?\"* \n",
    "\n",
    "Different systems take different approaches to this problem. Some, like [TorchServe](https://pytorch.org/serve/) and [Ray Serve](https://docs.ray.io/en/latest/serve/index.html), run one process per model and have components for managing the resulting process pool. Others, such as [TensorFlow Serving](https://www.tensorflow.org/tfx/guide/serving) and [ModelMesh](https://github.com/kserve/modelmesh), maintain a small pool of large processes and have components for mapping models to processes. And other systems like [KServe](https://github.com/kserve/kserve) and [Seldon Core](https://docs.seldon.io/projects/seldon-core/en/latest/workflow/overview.html#e2e-serving-with-model-servers) run each model in its container and have components for managing a container pool.\n",
    "\n",
    "![Architecture of TorchServe, showing all the components needed to manage a pool of containers for every model.](../images/torch_serve_arch.jpg)\n",
    "\n",
    "\n",
    "## A Better Way?\n",
    "\n",
    "Regardless of the path that you take, the journey to serving deep learning models starts out at \"loading models is expensive\" and ends up in a place with lots of moving parts and lots of knobs to tune.\n",
    "\n",
    "But what if we could start that journey by moving in a different direction?\n",
    "\n",
    "That's the path we've been exploring with zero-copy model loading. Zero-copy model loading makes loading a deep learning model nearly instantaneous.  As long as the weights are in the local segment of the Ray's [Plasma object store](https://docs.ray.io/en/latest/ray-core/serialization.html#id1), your code can load a copy of the model instantly, run a single inference request, and then unload the model.  Model inference becomes a stateless process. This statelessness removes design constraints that drive complexity in model serving systems. There's no need to manage a pool of processes or containers, because inference takes place in ephemeral tasks.\n",
    "\n"
   ]
  },
  {
   "cell_type": "code",
   "execution_count": 1,
   "id": "edbf7611",
   "metadata": {},
   "outputs": [],
   "source": [
    "# Initialization and import code goes in this cell.\n",
    "\n",
    "# Imports: Python core, then third-party, then local.\n",
    "# Try to keep each block in alphabetical order, or the linter may get angry.\n",
    "\n",
    "import asyncio\n",
    "import concurrent.futures\n",
    "import requests\n",
    "import starlette\n",
    "import time\n",
    "import os\n",
    "import json\n",
    "import multiprocessing\n",
    "\n",
    "import matplotlib.pyplot as plt\n",
    "import pandas as pd\n",
    "\n",
    "import ray\n",
    "from ray import serve\n",
    "import torch\n",
    "import transformers\n",
    "\n",
    "import zerocopy\n",
    "\n",
    "# Fix silly warning messages about parallel tokenizers\n",
    "os.environ['TOKENIZERS_PARALLELISM'] = 'False'\n",
    "\n",
    "\n",
    "# Reduce the volume of warning messages from `transformers`\n",
    "transformers.logging.set_verbosity_error()\n",
    "\n",
    "\n",
    "def reboot_ray():\n",
    "    if ray.is_initialized():\n",
    "        ray.shutdown()\n",
    "\n",
    "    if torch.cuda.is_available():\n",
    "        return ray.init(num_gpus=1)\n",
    "    else:\n",
    "        return ray.init()"
   ]
  },
  {
   "cell_type": "code",
   "execution_count": 2,
   "id": "7add2053",
   "metadata": {},
   "outputs": [
    {
     "name": "stderr",
     "output_type": "stream",
     "text": [
      "2022-04-14 13:51:27,517\tINFO services.py:1412 -- View the Ray dashboard at \u001b[1m\u001b[32mhttp://127.0.0.1:8265\u001b[39m\u001b[22m\n",
      "\u001b[2m\u001b[36m(ServeController pid=48955)\u001b[0m 2022-04-14 13:51:31,909\tINFO checkpoint_path.py:16 -- Using RayInternalKVStore for controller checkpoint and recovery.\n",
      "\u001b[2m\u001b[36m(ServeController pid=48955)\u001b[0m 2022-04-14 13:51:32,017\tINFO http_state.py:98 -- Starting HTTP proxy with name 'SERVE_CONTROLLER_ACTOR:dBVTml:SERVE_PROXY_ACTOR-node:127.0.0.1-0' on node 'node:127.0.0.1-0' listening on '127.0.0.1:8000'\n",
      "2022-04-14 13:51:32,415\tINFO api.py:521 -- Started Serve instance in namespace '79818f25-cd87-41d8-b7e4-876167a16cc3'.\n",
      "\u001b[2m\u001b[36m(HTTPProxyActor pid=48956)\u001b[0m INFO:     Started server process [48956]\n"
     ]
    }
   ],
   "source": [
    "# Don't include this cell in the blog post.\n",
    "# Fire up Ray\n",
    "serve.shutdown()\n",
    "reboot_ray()\n",
    "serve.start()\n",
    "\n",
    "# Wait a moment to make sure that all log output goes to this cell\n",
    "time.sleep(1.)"
   ]
  },
  {
   "cell_type": "markdown",
   "id": "19cedcb5-62a4-401b-ac58-d2fe41044dbc",
   "metadata": {
    "tags": []
   },
   "source": [
    "## Introducing `zerocopy`\n",
    "\n",
    "Our previous post included code snippets that show how to rewrite a PyTorch model to use zero-copy model loading. \n",
    "We've recently released a Python package, [`zerocopy`](https://pypi.org/project/zerocopy), that lets you apply this technique to your models without having to copy and paste Python code. \n",
    "This package is part of IBM's [Project Codeflare](https://github.com/project-codeflare), a framework to simplify the integration, scaling and acceleration of complex multi-step analytics and machine learning pipelines.\n",
    "\n",
    "You can install this package by typing:\n",
    "\n",
    "```\n",
    "pip install zerocopy\n",
    "```\n",
    "\n",
    "Once it's installed, using the `zerocopy` package is a three-step process:\n",
    "1. Import the package.\n",
    "2. Move your model's weights onto the Plasma object store.\n",
    "3. Run your model in an asynchronous Ray task.\n",
    "\n",
    "Let's show these three steps in action. \n",
    "\n",
    "Step 1 is just a Python `import` statement:\n",
    "```python \n",
    "import zerocopy\n",
    "```\n",
    "\n",
    "Then it's on to step 2: Moving your model's weights onto Plasma. You will of course need a PyTorch model to do this step. As an example, let's load up the most popular [intent detection](https://paperswithcode.com/task/intent-detection) model from the [Huggingface model marketplace](https://huggingface.co/models)."
   ]
  },
  {
   "cell_type": "code",
   "execution_count": 3,
   "id": "40c168f1-faa9-4dbb-aeea-64940ec5f4f0",
   "metadata": {},
   "outputs": [],
   "source": [
    "model = transformers.AutoModelForSeq2SeqLM.from_pretrained(\n",
    "            'mrm8488/t5-base-finetuned-e2m-intent')"
   ]
  },
  {
   "cell_type": "code",
   "execution_count": 4,
   "id": "727b62eb-186b-49a5-a612-c554282323c2",
   "metadata": {},
   "outputs": [
    {
     "data": {
      "text/plain": [
       "{'input_ids': tensor([[  27,  764,  270,   12,    3, 1544, 8852,   11, 3853,   25,   95,    6,\n",
       "           11,   27,   31,   51,   66,   91,   13, 8852,    5,    1]]), 'attention_mask': tensor([[1, 1, 1, 1, 1, 1, 1, 1, 1, 1, 1, 1, 1, 1, 1, 1, 1, 1, 1, 1, 1, 1]])}"
      ]
     },
     "execution_count": 4,
     "metadata": {},
     "output_type": "execute_result"
    }
   ],
   "source": [
    "# Don't include this cell in the blog.\n",
    "# Load a tokenizer to go with the model and generate some preprocessed\n",
    "# model inputs\n",
    "tokenizer = transformers.AutoTokenizer.from_pretrained('t5-base')\n",
    "text = (\"I came here to eat chips and beat you up, \"\n",
    "        \"and I'm all out of chips.\")\n",
    "model_input = tokenizer(text, return_tensors='pt')\n",
    "model_input"
   ]
  },
  {
   "cell_type": "markdown",
   "id": "5c449584-9ad4-484f-957e-162bf40f8781",
   "metadata": {},
   "source": [
    "To move this model's weights onto Plasma, you first need to pass the model through `zerocopy.extract_tensors()`, which separates the weights from the model's Python objects. Then you need to copy the model and its weights to Plasma using the function `ray.put()`. You can do both of these operations with a single line of Python code. "
   ]
  },
  {
   "cell_type": "code",
   "execution_count": 5,
   "id": "e30e8b0e-d6c2-4ec2-a3fe-369ab675f6e1",
   "metadata": {},
   "outputs": [],
   "source": [
    "model_ref = ray.put(zerocopy.extract_tensors(model))"
   ]
  },
  {
   "cell_type": "markdown",
   "id": "5d8b456a-f5aa-48b1-81f6-c14e53835015",
   "metadata": {},
   "source": [
    "The return value from `ray.put()` is a Ray [object reference](https://arrow.apache.org/docs/python/plasma.html#object-ids). This object reference lets you load the model almost instantly from any location on your Ray cluster. This capability is what enables step 3: Running your model in an asynchronous Ray task.\n",
    "\n",
    "In our previous post, we showed how you can define a stateless Ray task that loads the model, runs inference over an input, and returns the result. The `zerocopy` package includes a built-in function `call_model()` that lets you do all these steps in one line of code."
   ]
  },
  {
   "cell_type": "code",
   "execution_count": 14,
   "id": "2edae889-4937-450a-9813-b3a44dceb68f",
   "metadata": {},
   "outputs": [],
   "source": [
    "# Invoke the model's `generate()` method from a remote Ray task\n",
    "result_ref = zerocopy.call_model.remote(model_ref, [], model_input,\n",
    "                                        'generate')"
   ]
  },
  {
   "cell_type": "markdown",
   "id": "df1c8211-6dbe-46a4-b9b6-f0bfc0dc1fe1",
   "metadata": {},
   "source": [
    "As with any other Ray task, `call_model.remote()` returns a [future](https://docs.ray.io/en/latest/ray-overview/index.html#parallelizing-python-java-functions-with-ray-tasks) --- a Ray object reference to the place where the result will appear once the task has completed. You can retrieve this result with `ray.get()`."
   ]
  },
  {
   "cell_type": "code",
   "execution_count": 15,
   "id": "65a1e427-fc22-4685-9f49-02dcc6145744",
   "metadata": {},
   "outputs": [
    {
     "data": {
      "text/plain": [
       "tensor([[   0,   12,    3, 1544, 8852,    1]])"
      ]
     },
     "execution_count": 15,
     "metadata": {},
     "output_type": "execute_result"
    }
   ],
   "source": [
    "ray.get(result_ref)"
   ]
  },
  {
   "cell_type": "markdown",
   "id": "23599bf9-9e86-46eb-8f5d-e95a21732bcb",
   "metadata": {
    "tags": []
   },
   "source": [
    "The time to invoke the rewritten model is almost the same as running the model locally. If you run inference multiple times, `zero_copy.call_model()` can send those inference requests to separate Ray tasks that run in parallel."
   ]
  },
  {
   "cell_type": "code",
   "execution_count": null,
   "id": "c162f92a-93f0-4732-9abc-b7d2db7f84fc",
   "metadata": {},
   "outputs": [],
   "source": [
    "print(\"            Time to run once locally: \", end=\"\")\n",
    "%timeit model.generate(**model_input)\n",
    "print(\"     Time to run once with zero-copy: \", end=\"\")\n",
    "%timeit ray.get(zerocopy.call_model.remote(model_ref, [], model_input, 'generate'))\n",
    "\n",
    "NUM_REPEATS = 100\n",
    "print(f\"       Time to run {NUM_REPEATS} times locally: \", end=\"\")\n",
    "%timeit -r 3 [model.generate(**model_input) for _ in range(NUM_REPEATS)]\n",
    "print(f\"Time to run {NUM_REPEATS} times with zero-copy: \", end=\"\")\n",
    "%timeit ray.get([zerocopy.call_model.remote(model_ref, [], model_input, 'generate') for _ in range(NUM_REPEATS)])"
   ]
  },
  {
   "cell_type": "code",
   "execution_count": null,
   "id": "93e1c83a-585e-4b13-ad18-7a5dd937a6ed",
   "metadata": {},
   "outputs": [],
   "source": [
    "# Don't include this cell in the blog.\n",
    "# More in-depth benchmarking for internal use.\n",
    "# TODO: Use output from running this cell on a large machine for the blog post\n",
    "def run_local(num_repeats: int):\n",
    "    for _ in range(num_repeats):\n",
    "        model.generate(**model_input)\n",
    "\n",
    "\n",
    "def run_zero_copy(num_repeats: int):\n",
    "    futures = [\n",
    "        zerocopy.call_model.remote(model_ref, [],\n",
    "                                   model_input, 'generate')\n",
    "        for _ in range(num_repeats)]\n",
    "    ray.get(futures)\n",
    "\n",
    "\n",
    "def run_zero_copy_2(num_repeats: int):\n",
    "    num_cores = multiprocessing.cpu_count()\n",
    "    num_not_started = num_repeats\n",
    "    futures = []\n",
    "    # Keep `num_cores` tasks live at a time\n",
    "    while num_not_started > 0:\n",
    "        addl_futures = [\n",
    "            zerocopy.call_model.remote(model_ref, [],\n",
    "                                       model_input, 'generate')\n",
    "            for _ in range(min(num_not_started, num_cores - len(futures)))]\n",
    "        num_not_started -= len(addl_futures)\n",
    "        futures.extend(addl_futures)\n",
    "        ready, futures = ray.wait(futures)\n",
    "        ray.get(ready)\n",
    "    # Fetch remaining results\n",
    "    ray.get(futures)\n",
    "\n",
    "\n",
    "print(f\"Time to run {NUM_REPEATS} times with zero-copy 2: \", end=\"\")\n",
    "%timeit -r 3 run_zero_copy_2(NUM_REPEATS)\n",
    "print(f\"Time to run {NUM_REPEATS} times with zero-copy: \", end=\"\")\n",
    "%timeit -r 3 run_zero_copy(NUM_REPEATS)\n",
    "# print(f\"       Time to run {NUM_REPEATS} times locally: \", end=\"\")\n",
    "# %timeit -r 3 run_local(NUM_REPEATS)"
   ]
  },
  {
   "cell_type": "markdown",
   "id": "ed68e27b-aa22-41aa-9df2-f3b4a367e4c2",
   "metadata": {},
   "source": [
    "What about memory consumption? In order for the model to load instantly, a copy of the serialized model and its weights needs to be in the local Plasma shared memory segment. The serialized data for this example model occupies a total of 990 MB in Plasma. This amount is much less than the amount of memory required by a Python process loads this model in the conventional way. We wrote a [simple test script](./space_benchmark.py) that loads the model and performs a single inference request. When we measured the script's peak memory usage, we found it to be 2350 MB, almost 2.4 times larger than the zero-copy version.\n",
    "\n",
    "Where does this factor of 2.4 come from? There are three primary reasons. The first factor is the additional size of Python and C++ objects and bytecode, compared with the serialized Python model. The second factor is fragmentation and buffer reuse in PyTorch's memory manager. And the third factor is space that PyTorch needs for the temporary objects it creates while loading the model or running inference."
   ]
  },
  {
   "cell_type": "code",
   "execution_count": 16,
   "id": "28df526f-4f9b-4739-9cf1-301ad33a3306",
   "metadata": {},
   "outputs": [],
   "source": [
    "# Don't include this cell in the blog\n",
    "# Remove the result object to clarify the output of the next cell\n",
    "del(result_ref)"
   ]
  },
  {
   "cell_type": "code",
   "execution_count": 17,
   "id": "5a8b3114-e58a-41aa-a6db-f41e21597777",
   "metadata": {},
   "outputs": [
    {
     "name": "stdout",
     "output_type": "stream",
     "text": [
      "990.39025 MB         2, (990.39025 MB)  0, (0.0 MB)   0, (0.0 MB)    0, (0.0 MB)          5, (0.0 MB)  \n",
      "127.0.0.1     | 48925    | Driver  |           | 990.39025 MB | LOCAL_REFERENCE | 00ffffffffffffffffffffffffffffffffffffff0100000001000000\n"
     ]
    }
   ],
   "source": [
    "# Don't include this cell in the blog\n",
    "!ray memory --units MB | grep MB"
   ]
  },
  {
   "cell_type": "markdown",
   "id": "b1002b54-5a5f-485a-a1c6-c289316e5e65",
   "metadata": {},
   "source": [
    "If you load the model in multiple processes in the non-zero-copy way, each process will require that entire 2350 MB allocation. If the size of this process pool exceeds physical RAM, the virtual memory system will start to thrash, and the entire machine will become unstable.\n",
    "\n",
    "In contrast, when Plasma runs out of space in main memory, it can spill less-frequently-used objects to a local solid state drive (SSD). The time it takes to read spilled objects back depends on the speed of the SSD. For example, the [Samsung 980 Pro](https://www.samsung.com/us/computing/memory-storage/solid-state-drives/980-pro-pcie-4-0-nvme-ssd-2tb-mz-v8p2t0b-am), a consumer-grade SSD, has a sequential read rate of 7000 MB/sec. At that rate, it would take about 140 milliseconds to read our serialized model back into main memory. Ray's scheduler can hide this loading time by overlapping it with tasks whose data is already in memory."
   ]
  },
  {
   "cell_type": "markdown",
   "id": "46e89618-037d-4440-883d-9bcf45f9afce",
   "metadata": {
    "tags": []
   },
   "source": [
    "## Serving Models with Zero-Copy Model Loading\n",
    "\n",
    "We've just shown how the `zerocopy` library lets you transform code that loads and runs a PyTorch model into code that copies the model to the Plasma object store and farms out inference requests to ephemeral Ray tasks.\n",
    "\n",
    "You can use this ability to transform your model serving code into zero-copy model serving code. The pair of listings below shows how, by changing two lines of code, we can turn a [Ray Serve](https://docs.ray.io/en/latest/serve/index.html) deployment of our example intent model into a deployment that uses zero-copy model loading.\n",
    "\n",
    "![before and after](../images/before_after.png)\n",
    "\n",
    "Let's zoom in on the two lines that change.\n",
    "\n",
    "The Ray Serve deployment on the left attaches the model to a Ray [actor](https://docs.ray.io/en/latest/ray-core/actors.html), a persistent Python object that resides in a dedicated process. The actor also handles incoming HTTP requests.\n",
    "\n",
    "The constructor for the actor class contains this line of code, which loads the model from disk and stores a pointer to the resulting Python object.\n",
    "```python\n",
    "self._model = transformers.AutoModelForSeq2SeqLM.from_pretrained(\n",
    "            'mrm8488/t5-base-finetuned-e2m-intent')\n",
    "```\n",
    "\n",
    "In the zero-copy version of the Ray Serve deployment, we replace this line of code with code that loads the model, copies the model to Plasma, and stores a Ray object reference locally.\n",
    "```python\n",
    "self._model_ref = zerocopy.extract_tensors(\n",
    "            transformers.AutoModelForSeq2SeqLM\n",
    "            .from_pretrained('mrm8488/t5-base-finetuned-e2m-intent'))\n",
    "```\n",
    "\n",
    "The second line that changes is in the actor's `__call__()` method, which handles HTTP requests. The original version of this method contains this line of code, which invokes the `generate()` method on the PyTorch model directly.\n",
    "```python\n",
    "raw_output = self._model.generate(**tokens)\n",
    "```\n",
    "\n",
    "We replace this line of code with a line that uses the `zerocopy.call_model()` function to run model inference in a stateless Ray background task.\n",
    "```python\n",
    "raw_output = await zerocopy.call_model.remote(\n",
    "            self._model_ref, [], tokens, 'generate')\n",
    "```\n",
    "\n",
    "Note the use of the `await` keyword. The revised `__call__()` method uses Python's [asyncio framework](https://docs.python.org/3/library/asyncio.html) to handle multiple simultaneous requests at once. Each active request will use a separate Ray task to run model inference.\n",
    "\n",
    "These two changes change the Ray actor from a large, heavyweight process into a much more lightweight process that only performs HTTP request handling and data proprocessing. All the work of inference occurs in stateless background tasks."
   ]
  },
  {
   "cell_type": "code",
   "execution_count": 23,
   "id": "471f2fac-6df4-434b-b60b-97fc69e8ff8d",
   "metadata": {},
   "outputs": [],
   "source": [
    "@serve.deployment\n",
    "class MyDeployment:\n",
    "    def __init__(self):\n",
    "        transformers.logging.set_verbosity_error()\n",
    "        self._tokenizer = transformers.AutoTokenizer.from_pretrained('t5-base')\n",
    "        \n",
    "        # Model loading\n",
    "        self._model = transformers.AutoModelForSeq2SeqLM.from_pretrained(\n",
    "            'mrm8488/t5-base-finetuned-e2m-intent')\n",
    "\n",
    "    async def __call__(self, request: starlette.requests.Request):\n",
    "        '''\n",
    "        Web service entry point.\n",
    "\n",
    "        Args:\n",
    "            request: HTTP request object for a REST web service call\n",
    "                     in the form:\n",
    "                     { \"context\": \"<input text>\" }\n",
    "        '''\n",
    "        # Parse JSON. A real deployment would also sanitize the input.\n",
    "        json_request = await request.json()\n",
    "        text = json_request['context']\n",
    "\n",
    "        # Preprocessing\n",
    "        tokens = self._tokenizer(text, return_tensors='pt')\n",
    "\n",
    "        # Model inference\n",
    "        raw_output = self._model.generate(**tokens)\n",
    "\n",
    "        # Postprocessing\n",
    "        result_string = self._tokenizer.decode(raw_output[0])\n",
    "        result_string = result_string.replace('<pad>', '')\n",
    "        result_string = result_string[len(' '):-len('</s>')]\n",
    "\n",
    "        return {'intent': result_string}\n"
   ]
  },
  {
   "cell_type": "code",
   "execution_count": 21,
   "id": "c25fe785-18c4-4561-886d-be5f9ac8ba1d",
   "metadata": {
    "tags": []
   },
   "outputs": [],
   "source": [
    "@serve.deployment\n",
    "class ZeroCopyDeployment:\n",
    "    def __init__(self):\n",
    "        transformers.logging.set_verbosity_error()\n",
    "        self._tokenizer = transformers.AutoTokenizer.from_pretrained('t5-base')\n",
    "        \n",
    "        self._model_ref = zerocopy.extract_tensors(\n",
    "            transformers.AutoModelForSeq2SeqLM\n",
    "            .from_pretrained('mrm8488/t5-base-finetuned-e2m-intent'))\n",
    "\n",
    "    async def __call__(self, request: starlette.requests.Request):\n",
    "        '''\n",
    "        Web service entry point.\n",
    "\n",
    "        Args:\n",
    "            request: HTTP request object for a REST web service call\n",
    "                     in the form:\n",
    "                     { \"context\": \"<input text>\" }\n",
    "        '''\n",
    "        # Parse JSON. A real deployment would also sanitize the input.\n",
    "        json_request = await request.json()\n",
    "        text = json_request['context']\n",
    "\n",
    "        # Preprocessing\n",
    "        tokens = self._tokenizer(text, return_tensors='pt')\n",
    "\n",
    "        raw_output = await zerocopy.call_model.remote(\n",
    "            self._model_ref, [], tokens, 'generate')\n",
    "\n",
    "        # Postprocessing\n",
    "        result_string = self._tokenizer.decode(raw_output[0])\n",
    "        result_string = result_string.replace('<pad>', '')\n",
    "        result_string = result_string[len(' '):-len('</s>')]\n",
    "\n",
    "        return {'intent': result_string}\n"
   ]
  },
  {
   "cell_type": "code",
   "execution_count": 22,
   "id": "e37a0f98-2258-4150-9a1c-bf51f3e1d28a",
   "metadata": {},
   "outputs": [
    {
     "name": "stderr",
     "output_type": "stream",
     "text": [
      "2022-04-14 15:50:56,866\tINFO api.py:262 -- Updating deployment 'my_model'. component=serve deployment=my_model\n",
      "\u001b[2m\u001b[36m(ServeController pid=48955)\u001b[0m 2022-04-14 15:50:56,924\tINFO deployment_state.py:920 -- Adding 1 replicas to deployment 'my_model'. component=serve deployment=my_model\n",
      "2022-04-14 15:51:05,880\tINFO api.py:274 -- Deployment 'my_model' is ready at `http://127.0.0.1:8000/my_model`. component=serve deployment=my_model\n"
     ]
    },
    {
     "name": "stdout",
     "output_type": "stream",
     "text": [
      "{\n",
      "  \"intent\": \"to be able to use the latest drivers\"\n",
      "}\n"
     ]
    }
   ],
   "source": [
    "# Don't include this cell in the blog.\n",
    "# Deploy and verify correctness.\n",
    "ZeroCopyDeployment.options(name='my_model', ray_actor_options={\"num_cpus\": 0.1}).deploy()\n",
    "\n",
    "print(requests.put('http://127.0.0.1:8000/my_model',\n",
    "      '''\n",
    "      { \n",
    "         \"context\": \"I'm looking for some Windows drivers for a model 3X-Q.\" \n",
    "      }\n",
    "      ''').text)"
   ]
  },
  {
   "cell_type": "code",
   "execution_count": 25,
   "id": "a4614552-0203-4ecc-a7c3-986c78c8c19e",
   "metadata": {},
   "outputs": [],
   "source": [
    "# Don't include this cell in the blog.\n",
    "# Stop this notebook's copy of Ray so as not to interfere with the\n",
    "# copy in our other notebooks.\n",
    "serve.shutdown()\n",
    "ray.shutdown()"
   ]
  },
  {
   "cell_type": "markdown",
   "id": "b13eccd9",
   "metadata": {},
   "source": [
    "## A Simple Benchmark\n",
    "\n",
    "We created a simple benchmark to test how well a model deployed with zero-copy model loading can adjust its configuration on the fly to handle a dynamic, bursty stream of application requests. The end-to-end scenario for our benchmark involves supporting an AI chatbot for customer care. The chatbot's conversational AI uses a preprogrammed [dialog flow](https://www.ibm.com/cloud/architecture/tutorials/watson_conversation_support?task=6) to control the interaction with the customer. Some of the nodes of this flow use machine learning models to guide their decisions."
   ]
  },
  {
   "cell_type": "markdown",
   "id": "d7dc5ddc-35bc-4c70-b3c8-c9e0debbc8bb",
   "metadata": {},
   "source": [
    "Our benchmark covers the model serving portion of the chatbot's backend. This \n",
    "model serving layer runs four different types of models:\n",
    "* *Intent detection* models that determine what is the user's goal.\n",
    "* *Sentiment analysis* models that monitor the user's mood.\n",
    "* *Question answering* models that provide the answers to specific factual questions.\n",
    "* *Natural language generation* models that give the chatbot's responses a less scripted flavor.\n",
    "\n",
    "Because the chatbot speaks 3 different languages, there are three versions of\n",
    "each model deployed: one for each language. So the model serving layer runs a total of\n",
    "12 models.\n",
    "\n",
    "In a real application, you would want to train custom versions of each type\n",
    "of model for the topics your chatbot covers.\n",
    "Since we're only interested in measuring throughput and latency, we skipped that customization\n",
    "step and just used the most popular pretrained model from each category from the \n",
    "[Huggingface model marketplace](https://huggingface.co/models).\n",
    "\n",
    "Each of these models uses a [Transformer](https://arxiv.org/abs/1706.03762)-based neural network,\n",
    "with a *language model* and a task specific *head*, tuned over \n",
    "a domain-specific training set.  The table below summarizes the four models that we used.\n",
    "\n",
    "\n",
    "| Task                 | Model Name                                   | Language Model  | Memory Footprint<br>(zero-copy)  | Memory Footprint<br>(non-zero-copy)\n",
    "| -----------          | -----------                                  | ------------    | ------------------- | ---------------------\n",
    "| Intent Detection     | `mrm8488/t5-base-finetuned-e2m-intent`       | T5              | 990 MB              | 2350 MB\n",
    "| Sentiment Analysis   | `cardiffnlp/twitter-roberta-base-sentiment`  | RoBERTa         | 498 MB              | 1160 MB\n",
    "| Question Answering   | `deepset/roberta-base-squad2`                | RoBERTa         | 496 MB              | 1189 MB\n",
    "| Text Generation      | `gpt2`                                       | GPT-2           | 665 MB              | 1391 MB\n",
    "\n",
    "![Image of the above table, for insertion in Medium](../images/models_table.png)\n",
    "\n",
    "\n",
    "Although all four models came from the same marketplace, they are quite diverse. The models use three different core language models: [Text-to-Text Transfer Transformer](https://arxiv.org/pdf/1910.10683.pdf) (T5) from Google Research, \n",
    "[RoBERTa](https://arxiv.org/pdf/1907.11692.pdf) from Facebook AI, and [GPT-2](https://d4mucfpksywv.cloudfront.net/better-language-models/language-models.pdf) from OpenAI. The models vary in size by almost a factor of 3.\n",
    "\n",
    "<!--\n",
    "The models also use two very different ways to package their preprocessing and postprocessing code. The intent and sentiment models provide small blocks of reference Python code, with the intent being that the user will adapt this reference code to the specific circumstances of the end-to-end appliction. The question answering and text generation models both use the Transformers library's [Pipelines API](https://huggingface.co/docs/transformers/main_classes/pipelines) to package their preprocessing and postprocesing code. \n",
    "-->\n"
   ]
  },
  {
   "cell_type": "markdown",
   "id": "dc6796f9-841b-4b8f-aaa7-8812dbbd097c",
   "metadata": {},
   "source": [
    "### Deploying the models\n",
    "\n",
    "As a baseline for comparison, we deployed each of the four model types using Ray Serve endpoints. The intent detection model in the benchmark is the same model that we have been using in our example code so far in this article, so we used the code above to deploy that model.  We followed a similar process for the remaining three model types to deploy a total of 12 models. You can find the full code that we used to deploy all 12 models in [this notebook](./ray_baseline.ipynb).\n",
    "\n",
    "We then modified this baseline deployment code to use zero-copy model loading. For each of our Ray Serve deployments, we changed two lines of code as we showed earlier in this post. Then we deployed three copies of each model for a total of 12 zero-copy model deployments. The code we used can be found in [this notebook](./ray_deploy.ipynb).\n"
   ]
  },
  {
   "cell_type": "markdown",
   "id": "5494b1aa",
   "metadata": {},
   "source": [
    "*Note (not to be included in the blog): earlier versions of this notebook implemented the baseline model deployment with TorchServe. That older version is preserved in [a separate notebook](./torchserve.ipynb).*"
   ]
  },
  {
   "cell_type": "markdown",
   "id": "60fc4316-86af-481f-8cc0-887a88c30c0d",
   "metadata": {},
   "source": [
    "## Running the Benchmark\n",
    "\n",
    "We wrote a simple discrete event simulation to simulate a variable number of customers interacting with the chatbot. Each simulated customer types a series of chat messages, waiting for a randomly-distributed \"think time\" between messages. Our simulation draws these thnk times randomly from a [Poisson distribution](https://en.wikipedia.org/wiki/Poisson_distribution) with a mean value of 10 seconds. Each chat message results in a single model inference request, with the choice of models drawn randomly from another Poisson distribution.\n",
    "\n",
    "The benchmark runs the simulation to generate a trace, then plays back the trace, sending requests to the backend under test and measuring the end-to-end latency of each request. We repeat this process of generating and playing back the trace, gradually ramping up the average request rate of the bursty traffic until requests start timing out. We used a timeout threshold of 5 seconds.\n",
    "\n",
    "We ran this benchmark against our two model deployments, using the same trace of requests. Both runs used the same hardware, a 16-core [IBM Cloud VM](https://www.ibm.com/cloud/virtual-servers), to run the entire benchmark, including the client portion of the benchmark, the serving framework, and the processes that performed model inference.\n",
    "\n",
    "The code that we used to implement the benchmark can be found [here](./benchmark.py)."
   ]
  },
  {
   "cell_type": "markdown",
   "id": "7403c8b3-7dda-4c32-86ec-1ba0eee6be34",
   "metadata": {
    "tags": []
   },
   "source": [
    "### (not in blog) TorchServe baseline benchmark run"
   ]
  },
  {
   "cell_type": "code",
   "execution_count": null,
   "id": "3ab0e951-9592-48f2-94e4-07c328e2965c",
   "metadata": {},
   "outputs": [],
   "source": [
    "# Don't include this cell in the blog.\n",
    "# Probe the management API to verify that TorchServe is running.\n",
    "try:\n",
    "    print(requests.get('http://127.0.0.1:8081/models').json())\n",
    "except requests.exceptions.ConnectionError:\n",
    "    # Stop notebook execution\n",
    "    raise ValueError('TorchServe does not appear to be running. Please start TorchServe.') from None"
   ]
  },
  {
   "cell_type": "raw",
   "id": "5f99d8a4-c1b4-4529-a984-a1eb9cc47344",
   "metadata": {},
   "source": [
    "# This call may be disabled to avoid overwriting local results.\n",
    "# Toggle cell type to \"code\" to run.\n",
    "!python3 benchmark.py 8080 outputs/baseline.csv"
   ]
  },
  {
   "cell_type": "code",
   "execution_count": null,
   "id": "4c948be2-7759-4ee1-866c-ef52df1cd2bd",
   "metadata": {},
   "outputs": [],
   "source": [
    "# Don't include this cell in the blog.\n",
    "# Make sure that TorchServe is shut down before we continue.\n",
    "torchserve_is_running = True\n",
    "try:\n",
    "    requests.get('http://127.0.0.1:8081/models').json()\n",
    "except requests.exceptions.ConnectionError:\n",
    "    torchserve_is_running = False\n",
    "if torchserve_is_running:\n",
    "    raise ValueError('Please shut down TorchServe before continuing.')"
   ]
  },
  {
   "cell_type": "markdown",
   "id": "454411d6-25b3-4ec2-b563-c8115905cccd",
   "metadata": {
    "tags": []
   },
   "source": [
    "### (not in blog) Ray baseline benchmark run"
   ]
  },
  {
   "cell_type": "code",
   "execution_count": null,
   "id": "618aacf3-df98-43bd-9beb-40f95513bff5",
   "metadata": {
    "tags": []
   },
   "outputs": [],
   "source": [
    "# Don't include this cell in the blog.\n",
    "# Make sure the Ray models are up\n",
    "try:\n",
    "    INTENT_INPUT = {\n",
    "        'context':\n",
    "            (\"I came here to eat chips and beat you up, \"\n",
    "             \"and I'm all out of chips.\")\n",
    "    }\n",
    "    requests.put(\n",
    "        'http://127.0.0.1:8000/predictions/intent_en', \n",
    "        json.dumps(INTENT_INPUT)).json()\n",
    "except requests.exceptions.ConnectionError as e:\n",
    "    raise ValueError('Please start up the zero-copy model deployment before continuing.') from None"
   ]
  },
  {
   "cell_type": "raw",
   "id": "2782efc5-cb41-40f4-a11e-0dda21f55b77",
   "metadata": {},
   "source": [
    "# This call may be disabled to avoid overwriting local results.\n",
    "# Toggle cell type to \"code\" to run.\n",
    "!python3 benchmark.py 8000 outputs/ray_baseline.csv"
   ]
  },
  {
   "cell_type": "code",
   "execution_count": null,
   "id": "865d28ef-5008-405b-a658-6e12f1d051e5",
   "metadata": {},
   "outputs": [],
   "source": [
    "# Don't include this cell in the blog.\n",
    "# Make sure that TorchServe is shut down before we continue.\n",
    "torchserve_is_running = True\n",
    "try:\n",
    "    requests.get('http://127.0.0.1:8081/models').json()\n",
    "except requests.exceptions.ConnectionError:\n",
    "    torchserve_is_running = False\n",
    "if torchserve_is_running:\n",
    "    raise ValueError('Please shut down TorchServe before continuing.')"
   ]
  },
  {
   "cell_type": "markdown",
   "id": "06033854-2849-450f-b7e2-382f79b5654b",
   "metadata": {},
   "source": [
    "### (not in blog) Optimized benchmark run"
   ]
  },
  {
   "cell_type": "code",
   "execution_count": null,
   "id": "5f71e2ec-77c9-4ef1-abea-dc3fad338794",
   "metadata": {
    "tags": []
   },
   "outputs": [],
   "source": [
    "# Don't include this cell in the blog.\n",
    "# Make sure the Ray models are up\n",
    "try:\n",
    "    INTENT_INPUT = {\n",
    "        'context':\n",
    "            (\"I came here to eat chips and beat you up, \"\n",
    "             \"and I'm all out of chips.\")\n",
    "    }\n",
    "    requests.put(\n",
    "        'http://127.0.0.1:8000/predictions/intent_en', \n",
    "        json.dumps(INTENT_INPUT)).json()\n",
    "except requests.exceptions.ConnectionError as e:\n",
    "    raise ValueError('Please start up the zero-copy model deployment before continuing.') from None"
   ]
  },
  {
   "cell_type": "raw",
   "id": "0ef7404d-354d-4a8e-aef6-b3906be6d0ad",
   "metadata": {},
   "source": [
    "# This call may be disabled to avoid overwriting local results.\n",
    "# Toggle cell type to \"code\" to run.\n",
    "!python3 benchmark.py 8000 outputs/zerocopy.csv"
   ]
  },
  {
   "cell_type": "markdown",
   "id": "0c15aebd-46d9-41f1-9ae4-1947cb51b0b1",
   "metadata": {},
   "source": [
    "### (not in blog) Result analysis"
   ]
  },
  {
   "cell_type": "code",
   "execution_count": 26,
   "id": "c4f8696c",
   "metadata": {},
   "outputs": [],
   "source": [
    "# Don't include this cell in the blog\n",
    "\n",
    "# Aggregate benchmark results.\n",
    "def compute_stats(results_df: pd.DataFrame) -> pd.DataFrame:\n",
    "    timeout_results = results_df[results_df['result_code'] != 200]\n",
    "    success_results = results_df[results_df['result_code'] == 200]\n",
    "\n",
    "    timeout_counts = (\n",
    "        timeout_results\n",
    "        .groupby('num_users')\n",
    "        .aggregate({'request_id': 'count'})\n",
    "        .rename(columns={'request_id': 'timeouts'}))\n",
    "    stats = (\n",
    "        success_results\n",
    "        .groupby('num_users')\n",
    "        .aggregate({'latency': ['mean', 'median', 'max'],\n",
    "                    'request_id': 'count'}))\n",
    "\n",
    "    # Column names come out from the aggregations all messed up\n",
    "    stats.columns=['mean', 'median', 'max', 'successes']\n",
    "    stats = stats.join(timeout_counts).fillna(0)\n",
    "    stats['timeout_fraction'] = stats['timeouts'] / (stats['successes'] \n",
    "                                                     + stats['timeouts'])\n",
    "    stats['timeouts'] = stats['timeouts'].astype(int)\n",
    "    return stats\n",
    "\n",
    "\n",
    "def maybe_generate_agg(prefix: str):\n",
    "    '''\n",
    "    Regenerate aggregate results for a benchmark run if a trace\n",
    "    is present.\n",
    "\n",
    "    :param prefix: Name of run, i.e. 'baseline' or 'zerocopy'\n",
    "    '''\n",
    "    if os.path.exists(f'outputs/{prefix}.csv'):\n",
    "        results = pd.read_csv(f'outputs/{prefix}.csv')\n",
    "        stats = compute_stats(results)\n",
    "        stats.to_csv(f'outputs/{prefix}_agg.csv')\n",
    "\n",
    "\n",
    "maybe_generate_agg('baseline')\n",
    "maybe_generate_agg('zerocopy')\n",
    "maybe_generate_agg('ray_baseline')"
   ]
  },
  {
   "cell_type": "code",
   "execution_count": 27,
   "id": "7d9f5747",
   "metadata": {},
   "outputs": [
    {
     "data": {
      "text/html": [
       "<div>\n",
       "<style scoped>\n",
       "    .dataframe tbody tr th:only-of-type {\n",
       "        vertical-align: middle;\n",
       "    }\n",
       "\n",
       "    .dataframe tbody tr th {\n",
       "        vertical-align: top;\n",
       "    }\n",
       "\n",
       "    .dataframe thead th {\n",
       "        text-align: right;\n",
       "    }\n",
       "</style>\n",
       "<table border=\"1\" class=\"dataframe\">\n",
       "  <thead>\n",
       "    <tr style=\"text-align: right;\">\n",
       "      <th></th>\n",
       "      <th>num_users</th>\n",
       "      <th>mean</th>\n",
       "      <th>median</th>\n",
       "      <th>max</th>\n",
       "      <th>successes</th>\n",
       "      <th>timeouts</th>\n",
       "      <th>timeout_fraction</th>\n",
       "    </tr>\n",
       "  </thead>\n",
       "  <tbody>\n",
       "    <tr>\n",
       "      <th>0</th>\n",
       "      <td>10</td>\n",
       "      <td>0.405181</td>\n",
       "      <td>0.442816</td>\n",
       "      <td>0.920758</td>\n",
       "      <td>57</td>\n",
       "      <td>0</td>\n",
       "      <td>0.000000</td>\n",
       "    </tr>\n",
       "    <tr>\n",
       "      <th>1</th>\n",
       "      <td>15</td>\n",
       "      <td>0.504624</td>\n",
       "      <td>0.478369</td>\n",
       "      <td>1.316841</td>\n",
       "      <td>88</td>\n",
       "      <td>0</td>\n",
       "      <td>0.000000</td>\n",
       "    </tr>\n",
       "    <tr>\n",
       "      <th>2</th>\n",
       "      <td>20</td>\n",
       "      <td>0.705766</td>\n",
       "      <td>0.499433</td>\n",
       "      <td>2.214844</td>\n",
       "      <td>114</td>\n",
       "      <td>0</td>\n",
       "      <td>0.000000</td>\n",
       "    </tr>\n",
       "    <tr>\n",
       "      <th>3</th>\n",
       "      <td>25</td>\n",
       "      <td>1.319962</td>\n",
       "      <td>1.112257</td>\n",
       "      <td>3.718396</td>\n",
       "      <td>141</td>\n",
       "      <td>0</td>\n",
       "      <td>0.000000</td>\n",
       "    </tr>\n",
       "    <tr>\n",
       "      <th>4</th>\n",
       "      <td>30</td>\n",
       "      <td>1.767164</td>\n",
       "      <td>0.797872</td>\n",
       "      <td>5.005147</td>\n",
       "      <td>95</td>\n",
       "      <td>76</td>\n",
       "      <td>0.444444</td>\n",
       "    </tr>\n",
       "    <tr>\n",
       "      <th>5</th>\n",
       "      <td>35</td>\n",
       "      <td>0.833144</td>\n",
       "      <td>0.108438</td>\n",
       "      <td>4.975030</td>\n",
       "      <td>74</td>\n",
       "      <td>125</td>\n",
       "      <td>0.628141</td>\n",
       "    </tr>\n",
       "  </tbody>\n",
       "</table>\n",
       "</div>"
      ],
      "text/plain": [
       "   num_users      mean    median       max  successes  timeouts  \\\n",
       "0         10  0.405181  0.442816  0.920758         57         0   \n",
       "1         15  0.504624  0.478369  1.316841         88         0   \n",
       "2         20  0.705766  0.499433  2.214844        114         0   \n",
       "3         25  1.319962  1.112257  3.718396        141         0   \n",
       "4         30  1.767164  0.797872  5.005147         95        76   \n",
       "5         35  0.833144  0.108438  4.975030         74       125   \n",
       "\n",
       "   timeout_fraction  \n",
       "0          0.000000  \n",
       "1          0.000000  \n",
       "2          0.000000  \n",
       "3          0.000000  \n",
       "4          0.444444  \n",
       "5          0.628141  "
      ]
     },
     "execution_count": 27,
     "metadata": {},
     "output_type": "execute_result"
    }
   ],
   "source": [
    "# Don't include this cell in the blog\n",
    "# Load up the TorchServe baseline results\n",
    "baseline_stats = pd.read_csv('outputs/baseline_agg.csv')\n",
    "baseline_stats"
   ]
  },
  {
   "cell_type": "code",
   "execution_count": 28,
   "id": "d96e6fd7-6240-4cf4-bd5a-f6de71868922",
   "metadata": {},
   "outputs": [
    {
     "data": {
      "text/html": [
       "<div>\n",
       "<style scoped>\n",
       "    .dataframe tbody tr th:only-of-type {\n",
       "        vertical-align: middle;\n",
       "    }\n",
       "\n",
       "    .dataframe tbody tr th {\n",
       "        vertical-align: top;\n",
       "    }\n",
       "\n",
       "    .dataframe thead th {\n",
       "        text-align: right;\n",
       "    }\n",
       "</style>\n",
       "<table border=\"1\" class=\"dataframe\">\n",
       "  <thead>\n",
       "    <tr style=\"text-align: right;\">\n",
       "      <th></th>\n",
       "      <th>num_users</th>\n",
       "      <th>mean</th>\n",
       "      <th>median</th>\n",
       "      <th>max</th>\n",
       "      <th>successes</th>\n",
       "      <th>timeouts</th>\n",
       "      <th>timeout_fraction</th>\n",
       "    </tr>\n",
       "  </thead>\n",
       "  <tbody>\n",
       "    <tr>\n",
       "      <th>0</th>\n",
       "      <td>10</td>\n",
       "      <td>0.411117</td>\n",
       "      <td>0.453302</td>\n",
       "      <td>0.967324</td>\n",
       "      <td>57</td>\n",
       "      <td>0</td>\n",
       "      <td>0.000000</td>\n",
       "    </tr>\n",
       "    <tr>\n",
       "      <th>1</th>\n",
       "      <td>15</td>\n",
       "      <td>0.492077</td>\n",
       "      <td>0.457293</td>\n",
       "      <td>1.228752</td>\n",
       "      <td>88</td>\n",
       "      <td>0</td>\n",
       "      <td>0.000000</td>\n",
       "    </tr>\n",
       "    <tr>\n",
       "      <th>2</th>\n",
       "      <td>20</td>\n",
       "      <td>0.671442</td>\n",
       "      <td>0.467893</td>\n",
       "      <td>2.034425</td>\n",
       "      <td>114</td>\n",
       "      <td>0</td>\n",
       "      <td>0.000000</td>\n",
       "    </tr>\n",
       "    <tr>\n",
       "      <th>3</th>\n",
       "      <td>25</td>\n",
       "      <td>1.065999</td>\n",
       "      <td>0.746736</td>\n",
       "      <td>3.407196</td>\n",
       "      <td>141</td>\n",
       "      <td>0</td>\n",
       "      <td>0.000000</td>\n",
       "    </tr>\n",
       "    <tr>\n",
       "      <th>4</th>\n",
       "      <td>30</td>\n",
       "      <td>2.309041</td>\n",
       "      <td>2.742401</td>\n",
       "      <td>4.967850</td>\n",
       "      <td>143</td>\n",
       "      <td>28</td>\n",
       "      <td>0.163743</td>\n",
       "    </tr>\n",
       "    <tr>\n",
       "      <th>5</th>\n",
       "      <td>35</td>\n",
       "      <td>2.235924</td>\n",
       "      <td>1.347797</td>\n",
       "      <td>4.998434</td>\n",
       "      <td>121</td>\n",
       "      <td>78</td>\n",
       "      <td>0.391960</td>\n",
       "    </tr>\n",
       "    <tr>\n",
       "      <th>6</th>\n",
       "      <td>40</td>\n",
       "      <td>1.959025</td>\n",
       "      <td>0.719997</td>\n",
       "      <td>4.994087</td>\n",
       "      <td>113</td>\n",
       "      <td>115</td>\n",
       "      <td>0.504386</td>\n",
       "    </tr>\n",
       "    <tr>\n",
       "      <th>7</th>\n",
       "      <td>45</td>\n",
       "      <td>1.575100</td>\n",
       "      <td>0.489439</td>\n",
       "      <td>4.992355</td>\n",
       "      <td>114</td>\n",
       "      <td>142</td>\n",
       "      <td>0.554688</td>\n",
       "    </tr>\n",
       "    <tr>\n",
       "      <th>8</th>\n",
       "      <td>50</td>\n",
       "      <td>1.311816</td>\n",
       "      <td>0.115630</td>\n",
       "      <td>5.000373</td>\n",
       "      <td>109</td>\n",
       "      <td>177</td>\n",
       "      <td>0.618881</td>\n",
       "    </tr>\n",
       "  </tbody>\n",
       "</table>\n",
       "</div>"
      ],
      "text/plain": [
       "   num_users      mean    median       max  successes  timeouts  \\\n",
       "0         10  0.411117  0.453302  0.967324         57         0   \n",
       "1         15  0.492077  0.457293  1.228752         88         0   \n",
       "2         20  0.671442  0.467893  2.034425        114         0   \n",
       "3         25  1.065999  0.746736  3.407196        141         0   \n",
       "4         30  2.309041  2.742401  4.967850        143        28   \n",
       "5         35  2.235924  1.347797  4.998434        121        78   \n",
       "6         40  1.959025  0.719997  4.994087        113       115   \n",
       "7         45  1.575100  0.489439  4.992355        114       142   \n",
       "8         50  1.311816  0.115630  5.000373        109       177   \n",
       "\n",
       "   timeout_fraction  \n",
       "0          0.000000  \n",
       "1          0.000000  \n",
       "2          0.000000  \n",
       "3          0.000000  \n",
       "4          0.163743  \n",
       "5          0.391960  \n",
       "6          0.504386  \n",
       "7          0.554688  \n",
       "8          0.618881  "
      ]
     },
     "execution_count": 28,
     "metadata": {},
     "output_type": "execute_result"
    }
   ],
   "source": [
    "# Don't include this cell in the blog\n",
    "# Load up the Ray baseline results\n",
    "ray_baseline_stats = pd.read_csv('outputs/ray_baseline_agg.csv')\n",
    "ray_baseline_stats"
   ]
  },
  {
   "cell_type": "code",
   "execution_count": 29,
   "id": "e5bb6f85-63ad-427d-875c-24ca86ad4bc8",
   "metadata": {},
   "outputs": [
    {
     "data": {
      "text/html": [
       "<div>\n",
       "<style scoped>\n",
       "    .dataframe tbody tr th:only-of-type {\n",
       "        vertical-align: middle;\n",
       "    }\n",
       "\n",
       "    .dataframe tbody tr th {\n",
       "        vertical-align: top;\n",
       "    }\n",
       "\n",
       "    .dataframe thead th {\n",
       "        text-align: right;\n",
       "    }\n",
       "</style>\n",
       "<table border=\"1\" class=\"dataframe\">\n",
       "  <thead>\n",
       "    <tr style=\"text-align: right;\">\n",
       "      <th></th>\n",
       "      <th>num_users</th>\n",
       "      <th>mean</th>\n",
       "      <th>median</th>\n",
       "      <th>max</th>\n",
       "      <th>successes</th>\n",
       "      <th>timeouts</th>\n",
       "      <th>timeout_fraction</th>\n",
       "    </tr>\n",
       "  </thead>\n",
       "  <tbody>\n",
       "    <tr>\n",
       "      <th>0</th>\n",
       "      <td>10</td>\n",
       "      <td>0.447012</td>\n",
       "      <td>0.418391</td>\n",
       "      <td>2.191628</td>\n",
       "      <td>57</td>\n",
       "      <td>0</td>\n",
       "      <td>0.0</td>\n",
       "    </tr>\n",
       "    <tr>\n",
       "      <th>1</th>\n",
       "      <td>15</td>\n",
       "      <td>0.471699</td>\n",
       "      <td>0.434592</td>\n",
       "      <td>1.899624</td>\n",
       "      <td>88</td>\n",
       "      <td>0</td>\n",
       "      <td>0.0</td>\n",
       "    </tr>\n",
       "    <tr>\n",
       "      <th>2</th>\n",
       "      <td>20</td>\n",
       "      <td>0.563979</td>\n",
       "      <td>0.440218</td>\n",
       "      <td>2.402398</td>\n",
       "      <td>114</td>\n",
       "      <td>0</td>\n",
       "      <td>0.0</td>\n",
       "    </tr>\n",
       "    <tr>\n",
       "      <th>3</th>\n",
       "      <td>25</td>\n",
       "      <td>0.615734</td>\n",
       "      <td>0.452039</td>\n",
       "      <td>2.400618</td>\n",
       "      <td>141</td>\n",
       "      <td>0</td>\n",
       "      <td>0.0</td>\n",
       "    </tr>\n",
       "    <tr>\n",
       "      <th>4</th>\n",
       "      <td>30</td>\n",
       "      <td>0.640276</td>\n",
       "      <td>0.456938</td>\n",
       "      <td>2.431353</td>\n",
       "      <td>171</td>\n",
       "      <td>0</td>\n",
       "      <td>0.0</td>\n",
       "    </tr>\n",
       "  </tbody>\n",
       "</table>\n",
       "</div>"
      ],
      "text/plain": [
       "   num_users      mean    median       max  successes  timeouts  \\\n",
       "0         10  0.447012  0.418391  2.191628         57         0   \n",
       "1         15  0.471699  0.434592  1.899624         88         0   \n",
       "2         20  0.563979  0.440218  2.402398        114         0   \n",
       "3         25  0.615734  0.452039  2.400618        141         0   \n",
       "4         30  0.640276  0.456938  2.431353        171         0   \n",
       "\n",
       "   timeout_fraction  \n",
       "0               0.0  \n",
       "1               0.0  \n",
       "2               0.0  \n",
       "3               0.0  \n",
       "4               0.0  "
      ]
     },
     "execution_count": 29,
     "metadata": {},
     "output_type": "execute_result"
    }
   ],
   "source": [
    "# Don't include this cell in the blog\n",
    "zerocopy_stats = pd.read_csv('outputs/zerocopy_agg.csv')\n",
    "zerocopy_stats.head()"
   ]
  },
  {
   "cell_type": "markdown",
   "id": "9e277a52-2556-4ff3-96a5-59cde4322f7a",
   "metadata": {},
   "source": [
    "The chart below shows the results of this benchmark. The X axis of the chart measures the number of simulated customers interacting with the chatbot. The Y axis measures what fraction of users' chat messages exceed the 5-second timeout limit."
   ]
  },
  {
   "cell_type": "code",
   "execution_count": 30,
   "id": "41323031-2b33-4835-a40f-cb01e503388a",
   "metadata": {},
   "outputs": [
    {
     "data": {
      "image/png": "[encoded data removed]",
      "text/plain": [
       "<Figure size 648x360 with 1 Axes>"
      ]
     },
     "metadata": {
      "needs_background": "light"
     },
     "output_type": "display_data"
    }
   ],
   "source": [
    "# Don't include this cell or its output in the blog.\n",
    "# Plot the three sets of results against each other.\n",
    "%config InlineBackend.print_figure_kwargs={'facecolor' : \"w\"}\n",
    "plt.rcParams.update({'font.size': 16})\n",
    "plt.figure(figsize=(9, 5))\n",
    "plt.plot(ray_baseline_stats['num_users'],\n",
    "         ray_baseline_stats['timeout_fraction'],\n",
    "         '-o', label='Ray Baseline')\n",
    "plt.plot(zerocopy_stats['num_users'],\n",
    "         zerocopy_stats['timeout_fraction'],\n",
    "         '-o', label=\"Zero-copy loading\")\n",
    "plt.plot(baseline_stats['num_users'],\n",
    "         baseline_stats['timeout_fraction'],\n",
    "         '-o', label='TorchServe Baseline')\n",
    "plt.xlabel('Number of Simultaneous Chat Sessions')\n",
    "plt.ylabel('Timeout Fraction\\n(lower is better)')\n",
    "plt.legend()\n",
    "pass"
   ]
  },
  {
   "cell_type": "code",
   "execution_count": 31,
   "id": "cc0edba8-7fec-4efe-94d7-892a502731b4",
   "metadata": {},
   "outputs": [
    {
     "data": {
      "image/png": "[encoded data removed]",
      "text/plain": [
       "<Figure size 648x360 with 1 Axes>"
      ]
     },
     "metadata": {
      "needs_background": "light"
     },
     "output_type": "display_data"
    }
   ],
   "source": [
    "# Don't include this code in the blog, but do include the chart.\n",
    "# Plot the two sets of results against each other.\n",
    "plt.rcParams.update({'font.size': 16})\n",
    "plt.figure(figsize=(9, 5))\n",
    "plt.plot(ray_baseline_stats['num_users'],\n",
    "         ray_baseline_stats['timeout_fraction'],\n",
    "         '-o', label='Without zero-copy loading')\n",
    "plt.plot(zerocopy_stats['num_users'],\n",
    "         zerocopy_stats['timeout_fraction'],\n",
    "         '-o', label=\"With zero-copy loading\")\n",
    "plt.xlabel('Number of Simultaneous Chat Sessions')\n",
    "plt.ylabel('Timeout Fraction\\n(lower is better)')\n",
    "plt.legend()\n",
    "pass"
   ]
  },
  {
   "cell_type": "markdown",
   "id": "71eb81ed-cdaa-46af-a3e4-14f271f09e35",
   "metadata": {
    "tags": []
   },
   "source": [
    "## Benchmark Results\n",
    "\n",
    "The chart below shows the results of the benchmark.\n",
    "\n",
    "*Annotated copy of the above chart that doesn't change when this notebook is recomputed:*\n",
    "![Performance graph](../images/zerocopy_perf.png)"
   ]
  },
  {
   "cell_type": "markdown",
   "id": "009ea8c9-3a23-4156-a0f0-477ba3f154dc",
   "metadata": {},
   "source": [
    "The baseline deployment can handle up to 30 simultaneous chat sessions. Beyond 30 sessions, the number of timeouts increases rapidly and the system becomes unstable. The baseline deployment uses a fixed allocation of CPU and memory because it hasn't been extensively tuned. When there are more than 30 simulated customers on the line, the CPU resources that are dedicated to the model with the highest traffic can no longer keep up with the increasingly large bursts of chat messages. \n",
    "\n",
    "Our deployment with zero-copy model loading, on the other hand, handles up to 220 sessions without any timeouts. This performance represents a 7x improvement in scalability without any tuning. The zero-copy based deployment is able to instantly retask the underlying hardware resources to whatever models are currently experiencing high traffic.\n",
    "\n",
    "This result shows how zero-copy model loading gives you zero-effort performance tuning.\n",
    "\n",
    "*All the code used in this blog post is available on Project CodeFlare's Github repository [here](https://github.com/project-codeflare/zero-copy-model-loading)*."
   ]
  },
  {
   "cell_type": "markdown",
   "id": "df620ecd-6b86-48ab-bcdb-856e9f1b51ad",
   "metadata": {},
   "source": [
    "# Extra material not included in the blog post"
   ]
  },
  {
   "cell_type": "markdown",
   "id": "933bdd06-d6a5-409b-946d-f2b2426f585b",
   "metadata": {
    "tags": []
   },
   "source": [
    "## Model inference pipelines\n",
    "\n",
    "\n",
    "With the `zerocopy` library's `extract_tensors()` and `call_model()` functions, you can apply zero-copy model loading to a Pytorch model with three lines of Python. But what about the end-to-end program that this model came from? \n",
    "\n",
    "Most machine learning models require additional code to apply them in a meaningful way. NLP models in particular require *preprocessing* to convert natural language text into a format the model can understand and *postprocessing* to convert the model's answer into a format that a person can understand. \n",
    "\n",
    "Some models provide this preprocessing and postprocessing code as simple reference code, with the intent that someone will copy that initial version of the code and turn it into a full production-ready application.\n",
    "\n",
    "It's also common to package the model as *pipeline* that includes preprocessing, inference, and postprocessing bundled together in a single Python object. For example, the Transformers library's BERT model that we have been using in our examples so far comes with a pipeline that performs the end-to-end task of *masked language modeling*: Identifying the most likely word to fill in a blank.\n",
    "\n",
    "Unlike the \"example reference code\" approach, the Pipelines API's end-to-end inference code is intended for direct production use. It includes support for model retraining, as well as performance optimizations like batching and GPU acceleration, plus code for handling corner cases like long input strings. This prepackaged code can save a lot of time, provided that your application is structured in a way that can easily accomodate a large block of non-modifiable third-party Python code."
   ]
  },
  {
   "cell_type": "code",
   "execution_count": null,
   "id": "0938883f-cd5f-4ed6-b2f7-d195652859ca",
   "metadata": {},
   "outputs": [],
   "source": [
    "bert_pipeline = transformers.pipeline('fill-mask', model='bert-base-uncased')\n",
    "bert_pipeline('All your base are belong to [MASK].')"
   ]
  },
  {
   "cell_type": "markdown",
   "id": "1c0793b8-4c0e-478d-b8bf-02395699ed06",
   "metadata": {},
   "source": [
    "The `zerocopy` library includes a function `rewrite_pipeline` that transforms any models embedded into Python object into Ray tasks that use zero-copy model loading to load weights. If we apply this function to a pipeline, the resulting rewritten pipeline faithfully performs all the preprocessing and postprocessing that the original pipeline performed. However, this rewritten pipeline runs the embedded PyTorch model in remote Ray tasks."
   ]
  },
  {
   "cell_type": "code",
   "execution_count": null,
   "id": "2add9f8b-b401-4cf4-accb-c753bfe6a26c",
   "metadata": {
    "tags": []
   },
   "outputs": [],
   "source": [
    "from pympler import asizeof\n",
    "\n",
    "zero_copy_bert_pipeline = zerocopy.rewrite_pipeline(bert_pipeline)\n",
    "print(f\"Heap memory used before rewrite: {asizeof.asizeof(bert_pipeline)}\")\n",
    "print(f\" Heap memory used after rewrite: {asizeof.asizeof(zero_copy_bert_pipeline)}\")\n",
    "\n",
    "print(f\"Output before rewrite: {bert_pipeline('All your base are belong to [MASK].')[0]['score']}\")\n",
    "print(f\" Output after rewrite: {zero_copy_bert_pipeline('All your base are belong to [MASK].')[0]['score']}\")"
   ]
  },
  {
   "cell_type": "code",
   "execution_count": null,
   "id": "33920dd8-32ff-47cb-976e-13251819318d",
   "metadata": {},
   "outputs": [],
   "source": [
    "# Don't include this cell in the blog.\n",
    "# Alternate version uses a multithreaded actor to run the pipeline via\n",
    "# its __call__ method.\n",
    "serve.start()\n",
    "\n",
    "@ray.remote\n",
    "class PipelineActor:\n",
    "    '''\n",
    "    Threaded Ray actor\n",
    "    '''\n",
    "    def __init__(self):\n",
    "        transformers.logging.set_verbosity_error()\n",
    "        pipeline_tmp = transformers.pipeline('fill-mask', model='bert-base-uncased')\n",
    "        self._pipeline = zerocopy.rewrite_pipeline(pipeline_tmp)\n",
    "\n",
    "    def run(self, input_: str):\n",
    "        # Model inference calls inside this pipeline will happen in remote\n",
    "        # Ray tasks.\n",
    "        return self._pipeline(input_)\n",
    "\n",
    "\n",
    "@serve.deployment\n",
    "class MyDeployment2:\n",
    "    def __init__(self):\n",
    "        self._pipeline_actor = PipelineActor.options(max_concurrency=100,\n",
    "                                                     num_cpus=0.1).remote()\n",
    "\n",
    "    async def __call__(self, request: starlette.requests.Request):\n",
    "        json_request = await request.json()\n",
    "        input_ = json_request['input']\n",
    "\n",
    "        result = await self._pipeline_actor.run.remote(input_)\n",
    "        return result\n",
    "\n",
    "MyDeployment2.options(name='my_model2', ray_actor_options={\"num_cpus\": 0.1}).deploy()\n",
    "\n",
    "print(requests.put('http://127.0.0.1:8000/my_model2', \n",
    "      '{ \"input\": \"All your base are belong to [MASK].\" }').text)"
   ]
  },
  {
   "cell_type": "code",
   "execution_count": null,
   "id": "95790e6e-c8a4-4419-8b88-b50b8ead26e4",
   "metadata": {},
   "outputs": [],
   "source": [
    "# Don't include this cell in the blog.\n",
    "# Alternate version uses a thread pool and acyncio's run_in_executor()\n",
    "# method run the pipeline via its __call__ method.\n",
    "\n",
    "@serve.deployment\n",
    "class MyDeployment3:\n",
    "    def __init__(self):\n",
    "        transformers.logging.set_verbosity_error()\n",
    "        pipeline_tmp = transformers.pipeline('fill-mask', model='bert-base-uncased')\n",
    "        self._pipeline = zerocopy.rewrite_pipeline(pipeline_tmp)\n",
    "\n",
    "        self._threadpool = concurrent.futures.ThreadPoolExecutor()\n",
    "\n",
    "    async def __call__(self, request: starlette.requests.Request):\n",
    "        '''\n",
    "        Web service entry point.\n",
    "\n",
    "        Args:\n",
    "            request: HTTP request object for a REST web service call\n",
    "                     in the form:\n",
    "                     { \"input\": \"<input text with [MASK]>\" }\n",
    "        '''\n",
    "        # Parse JSON. A real deployment would also sanitize the input.\n",
    "        json_request = await request.json()\n",
    "        masked_string = json_request['input']\n",
    "\n",
    "        # The original `transformers` code is not async-aware, so we\n",
    "        # call it from `run_in_executor()`.\n",
    "        # Preprocessing and postprocessing code will happen inside this\n",
    "        # process, but model inference will occur in a remote Ray task.\n",
    "        # While that task is running, the local thread will block on\n",
    "        # a call to `ray.get()`\n",
    "        result = await asyncio.get_running_loop().run_in_executor(\n",
    "             self._threadpool, lambda: self._pipeline(masked_string))\n",
    "        return result\n",
    "\n",
    "MyDeployment3.options(name='my_model3', ray_actor_options={\"num_cpus\": 0.1}).deploy()\n",
    "\n",
    "print(requests.put('http://127.0.0.1:8000/my_model3', \n",
    "      '{ \"input\": \"All your base are belong to [MASK].\" }').text)"
   ]
  },
  {
   "cell_type": "raw",
   "id": "7bfbbb1e-0f5e-45b5-8462-6e2f9d526bab",
   "metadata": {
    "tags": []
   },
   "source": [
    "# Old code that demos `zerocopy` with the intent model\n",
    "\n",
    "# Preprocessing\n",
    "input_text = f'{INTENT_INPUT[\"context\"]} </s>'\n",
    "features = intent_tokenizer([input_text], return_tensors='pt')\n",
    "\n",
    "# Inference without zero-copy loading\n",
    "print('Result without zero-copy loading: '\n",
    "      + str(intent_model.generate(**features)))\n",
    "\n",
    "# Inference with zero-copy loading\n",
    "intent_model_ref = ray.put(zerocopy.extract_tensors(intent_model))\n",
    "print(' Result *with* zero-copy loading: ' +\n",
    "      str(ray.get(zerocopy.call_model.remote(\n",
    "          intent_model_ref, [], features, 'generate'))))\n",
    "          \n",
    "print(\"       Time to run locally: \", end=\"\")\n",
    "%timeit intent_model.generate(**features)\n",
    "print(\"Time to run with zero-copy: \", end=\"\")\n",
    "%timeit ray.get(zerocopy.call_model.remote(intent_model_ref, [], features, 'generate'))\n",
    "\n",
    "def run_local(num_repeats: int):\n",
    "    for _ in range(num_repeats):\n",
    "        intent_model.generate(**features)\n",
    "\n",
    "\n",
    "def run_zero_copy(num_repeats: int):\n",
    "    futures = [\n",
    "        zerocopy.call_model.remote(intent_model_ref, [], features, 'generate')\n",
    "        for _ in range(num_repeats)]\n",
    "    ray.get(futures)\n",
    "\n",
    "\n",
    "NUM_REPEATS = 50\n",
    "print(f\"Time to run {NUM_REPEATS} times with zero-copy: \", end=\"\")\n",
    "%timeit -r 3 run_zero_copy(NUM_REPEATS)\n",
    "print(f\"       Time to run {NUM_REPEATS} times locally: \", end=\"\")\n",
    "%timeit -r 3 run_local(NUM_REPEATS)"
   ]
  },
  {
   "cell_type": "raw",
   "id": "58769647-0991-4da2-ac40-61960952b09c",
   "metadata": {},
   "source": [
    "# Old code that demos `zerocopy` on the QA model pipeline\n",
    "zero_copy_qa = zerocopy.rewrite_pipeline(qa_pipeline)\n",
    "print(f\"Before rewrite: {qa_pipeline(**QA_INPUT)}\")\n",
    "print(f\" After rewrite: {zero_copy_qa(**QA_INPUT)}\")"
   ]
  },
  {
   "cell_type": "raw",
   "id": "bc82a3f1-a6d9-4995-830b-d5b43539ab62",
   "metadata": {},
   "source": [
    "# Old code that deploys bert-base-uncased with Ray Serve\n",
    "from ray import serve\n",
    "\n",
    "\n",
    "# Step 1: Define a Ray Serve deployment\n",
    "@serve.deployment\n",
    "class MyDeployment:\n",
    "    def __init__(self):\n",
    "        transformers.logging.set_verbosity_error()\n",
    "\n",
    "        # Load the entire pipeline\n",
    "        self._pipeline = transformers.pipeline('fill-mask', \n",
    "                                               model='bert-base-uncased')\n",
    "\n",
    "        # Move the model weights to Plasma\n",
    "        self._pipeline.model = zerocopy.extract_tensors(self._pipeline.model)\n",
    "\n",
    "    async def __call__(self, request: starlette.requests.Request):\n",
    "        '''\n",
    "        Web service entry point.\n",
    "\n",
    "        Args:\n",
    "            request: HTTP request object for a REST web service call\n",
    "                     in the form:\n",
    "                     { \"input\": \"<input text with [MASK]>\" }\n",
    "        '''\n",
    "        # Parse JSON. A real deployment would also sanitize the input.\n",
    "        json_request = await request.json()\n",
    "        input_ = json_request['input']\n",
    "\n",
    "        # Preprocessing\n",
    "        features = self._pipeline.preprocess(input_)\n",
    "\n",
    "        # Model inference runs asynchronously in a Ray task\n",
    "        raw_output = await zerocopy.call_model.remote(\n",
    "            self._pipeline.model, [], features)\n",
    "\n",
    "        # Postprocessing\n",
    "        raw_output[\"input_ids\"] = features[\"input_ids\"]\n",
    "        return self._pipeline.postprocess(raw_output)\n",
    "\n",
    "\n",
    "# Step 2: Attach the deployment to an HTTP endpoint\n",
    "MyDeployment.options(name='my_model', ray_actor_options={\"num_cpus\": 0.1}).deploy()\n",
    "\n",
    "# There is no step 3.\n",
    "\n",
    "# Show using the endpoint\n",
    "print(requests.put('http://127.0.0.1:8000/my_model',\n",
    "      '{ \"input\": \"All your base are belong to [MASK].\" }').text)"
   ]
  }
 ],
 "metadata": {
  "interpreter": {
   "hash": "afa7e0f34d224467fd24b0cfa9c212efa127bdf53fe1c4e3ddf54198f34a39e3"
  },
  "kernelspec": {
   "display_name": "Python 3 (ipykernel)",
   "language": "python",
   "name": "python3"
  },
  "language_info": {
   "codemirror_mode": {
    "name": "ipython",
    "version": 3
   },
   "file_extension": ".py",
   "mimetype": "text/x-python",
   "name": "python",
   "nbconvert_exporter": "python",
   "pygments_lexer": "ipython3",
   "version": "3.8.13"
  }
 },
 "nbformat": 4,
 "nbformat_minor": 5
}
