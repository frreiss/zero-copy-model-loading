{
 "cells": [
  {
   "cell_type": "code",
   "execution_count": 8,
   "id": "4ae0615a-bc77-4c04-89f6-a35724dc2356",
   "metadata": {},
   "outputs": [
    {
     "name": "stdout",
     "output_type": "stream",
     "text": [
      "            Time to run once locally: 516 ms ± 6.37 ms per loop (mean ± std. dev. of 7 runs, 1 loop each)\n",
      "     Time to run once with zero-copy: 534 ms ± 12.6 ms per loop (mean ± std. dev. of 7 runs, 1 loop each)\n",
      "       Time to run 100 times locally: 51.9 s ± 222 ms per loop (mean ± std. dev. of 3 runs, 1 loop each)\n",
      "Time to run 100 times with zero-copy: 6.31 s ± 143 ms per loop (mean ± std. dev. of 7 runs, 1 loop each)\n"
     ]
    }
   ],
   "source": [
    "print(\"            Time to run once locally: \", end=\"\")\n",
    "%timeit model.generate(**model_input)\n",
    "print(\"     Time to run once with zero-copy: \", end=\"\")\n",
    "%timeit ray.get(zerocopy.call_model.remote(model_ref, [], model_input, 'generate'))\n",
    "\n",
    "NUM_REPEATS = 100\n",
    "print(f\"       Time to run {NUM_REPEATS} times locally: \", end=\"\")\n",
    "%timeit -r 3 [model.generate(**model_input) for _ in range(NUM_REPEATS)]\n",
    "print(f\"Time to run {NUM_REPEATS} times with zero-copy: \", end=\"\")\n",
    "%timeit ray.get([zerocopy.call_model.remote(model_ref, [], model_input, 'generate') for _ in range(NUM_REPEATS)])"
   ]
  }
 ],
 "metadata": {
  "interpreter": {
   "hash": "afa7e0f34d224467fd24b0cfa9c212efa127bdf53fe1c4e3ddf54198f34a39e3"
  },
  "kernelspec": {
   "display_name": "Python 3",
   "language": "python",
   "name": "python3"
  },
  "language_info": {
   "codemirror_mode": {
    "name": "ipython",
    "version": 3
   },
   "file_extension": ".py",
   "mimetype": "text/x-python",
   "name": "python",
   "nbconvert_exporter": "python",
   "pygments_lexer": "ipython3",
   "version": "3.8.13"
  }
 },
 "nbformat": 4,
 "nbformat_minor": 5
}
